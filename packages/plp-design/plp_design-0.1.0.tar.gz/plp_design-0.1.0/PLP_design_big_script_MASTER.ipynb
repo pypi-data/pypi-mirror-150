{
 "cells": [
  {
   "cell_type": "markdown",
   "metadata": {},
   "source": [
    "## Notebook to design PLPs for ISS \n"
   ]
  },
  {
   "cell_type": "markdown",
   "metadata": {},
   "source": [
    "### Requirements to run the script"
   ]
  },
  {
   "cell_type": "markdown",
   "metadata": {},
   "source": [
    "This script aims to be used as an example of how to design ISS probes to target different genes. The requirements to use this scripts to design PLP are:\n",
    "\n",
    "(1) A list of Genes to design a padlock probe (PLP) agains it\n",
    "\n",
    "(2) The reference transcriptome of the species you are targeting in fasta format (.fasta/.fa/.fna) downloaded locally.\n",
    "\n",
    "(3) ClustalW2 downloaded on your computer\n",
    "\n",
    "(4) Cutadapt downloaded on your computer \n"
   ]
  },
  {
   "cell_type": "markdown",
   "metadata": {},
   "source": [
    "# Import packages"
   ]
  },
  {
   "cell_type": "markdown",
   "metadata": {},
   "source": [
    "The first step in this script is to load the packages that the script will need. If anything fails in this step, it means most likely that you haven't installed the package yet. You can install packages with \"pip install < whatever >\" on the command line"
   ]
  },
  {
   "cell_type": "code",
   "execution_count": 6,
   "metadata": {},
   "outputs": [],
   "source": [
    "import pandas as pd \n",
    "import Bio\n",
    "from Bio import SeqIO\n",
    "from Bio.SeqUtils import GC\n",
    "from Bio.Seq import Seq\n",
    "from Bio.SeqRecord import SeqRecord\n",
    "from Bio.Align import MultipleSeqAlignment\n",
    "from Bio.Align.Applications import ClustalwCommandline\n",
    "import collections\n",
    "from Bio import AlignIO\n",
    "import random\n",
    "import numpy as np\n",
    "import sys\n",
    "sys.path += [r\"C:\\Users\\sergio.salas\\Documents\\PhD\\projects\\gene_design\\PLP_design_package\\bin\"]\n",
    "#print (sys.path)\n",
    "import PLP_design as plp"
   ]
  },
  {
   "cell_type": "markdown",
   "metadata": {},
   "source": [
    "##  Reference parameters"
   ]
  },
  {
   "cell_type": "markdown",
   "metadata": {},
   "source": [
    "Please specify in the following lines where your input csv, output path and accompaning software is located in your computer"
   ]
  },
  {
   "cell_type": "markdown",
   "metadata": {},
   "source": [
    "`Path`: Where do you want your output to be stored in.\n",
    "`Genes`: csv containing the list of genes you want to design PLPs against\n",
    "`Pathclustal`: path where the program ClustalW2 is installed. Find it by searching ClustalW2 on your folder menu, opening the location of it and copying the path here\n",
    "`ref`: reference transcriptome of the species you are interested on\n",
    " `L_probe_library`:this is used to link your good target sequences/genes to L-IDs that will be used later for decoding)\n",
    "`LbarID` is,from the reference PLP list,  where do you want to start from"
   ]
  },
  {
   "cell_type": "code",
   "execution_count": 7,
   "metadata": {},
   "outputs": [],
   "source": [
    "path='C:/Users/sergio.salas/Documents/PhD/projects/gene_design/hower_example_5'\n",
    "genes=pd.read_csv(r\"C:\\Users\\sergio.salas\\Documents\\PhD\\projects\\gene_design\\genelist2.csv\",sep=',')\n",
    "pathclustal=r\"C:/ProgramData/Microsoft/Windows/Start Menu/Programs/ClustalW2/ClustalW2.lnk\"\n",
    "ref='C:/Users/sergio.salas/Documents/PhD/projects/gene_design/example/GRCh38_latest_rna.fna'\n",
    "L_probe_library=\"C:/Users/sergio.salas/Documents/PhD/projects/gene_design/example/Lprobe_Ver2.csv\"\n",
    "LbarID=201 # "
   ]
  },
  {
   "cell_type": "markdown",
   "metadata": {},
   "source": [
    "# PARAMETERS RELATED WITH PLP DESIGN ITSELF"
   ]
  },
  {
   "cell_type": "markdown",
   "metadata": {},
   "source": [
    "`selgenes`: number of sequences (out of the ones fitting your parameters), that you want to map against the transcriptome.\n",
    "The more you map, the slower it will be, but the higher chance you'll have to get specific sequences.\n",
    "We recommend `number_of_seqs`=7-8, for a standard ISS experiment where you want 4-5 final PLPs\n",
    "\n",
    "`final_designed`: maximum number of PLPs that you want to design out of the number included as selgenes\n",
    "`plp_length`: length of the part of the PLP hybridizing the RNA molecules\n",
    "`mismatches`: is the maximum allowed mismatches between the probe and the target sequence. Anything below or equal to `mismatches` will produce a positive hit. OPTIONAL: include gc_max, gc_min, set to 50 and 65 in the default script if you want to change it "
   ]
  },
  {
   "cell_type": "code",
   "execution_count": 8,
   "metadata": {},
   "outputs": [],
   "source": [
    "number_of_seqs= 2 # number of sequences mapped/PLP\n",
    "final_designed=2 # number of PLPs designed at the end/gene\n",
    "plp_length=30\n",
    "mismatches = 5"
   ]
  },
  {
   "cell_type": "markdown",
   "metadata": {},
   "source": [
    "# Extract and align sequences"
   ]
  },
  {
   "cell_type": "markdown",
   "metadata": {},
   "source": [
    "The first step in the PLP design is to extract the sequnces for the designed genes from the reference transcriptome. Since many of the genes present more than one variant, the default script for PLP design will use only the common sequences"
   ]
  },
  {
   "cell_type": "code",
   "execution_count": null,
   "metadata": {
    "scrolled": true
   },
   "outputs": [
    {
     "name": "stdout",
     "output_type": "stream",
     "text": [
      "Starting NR2E1\n",
      "\n",
      "Starting GLI3\n"
     ]
    }
   ],
   "source": [
    "sequences,found_genes,notfound_genes=plp.extract_and_align(genes,ref,path,pathclustal) # optionally include gc_max, gc_min and plp_length to define parameters of your PLP"
   ]
  },
  {
   "cell_type": "markdown",
   "metadata": {},
   "source": [
    "From the previous script, we return `sequences`, which include all the potential sequences (not mapped yet) for all genes targeted. `found_genes` include the list of genes that we have been able to find k-mers fullfiling the PLP requirements. `not_found_genes` include the list of genes that we haven't been able to find/ we haven't been able to find any k-mer that fullfils the requirements. Those can be (1) too short genes or (2) genes with too many variants and no comon sequence among them"
   ]
  },
  {
   "cell_type": "markdown",
   "metadata": {},
   "source": [
    "# Select a subsample of potential targets"
   ]
  },
  {
   "cell_type": "markdown",
   "metadata": {},
   "source": [
    "We subsample the long list of potential targets/sequences to check for specificity. The returned object `selected_sequences` has the same format as sequences, but has only the amount of targets/gene specified in `number_of_seqs`"
   ]
  },
  {
   "cell_type": "code",
   "execution_count": 6,
   "metadata": {},
   "outputs": [],
   "source": [
    "selected_sequences=plp.select_sequences(path,sequences,found_genes,number_of_seqs,subgroup=1)"
   ]
  },
  {
   "cell_type": "code",
   "execution_count": 7,
   "metadata": {
    "scrolled": true
   },
   "outputs": [],
   "source": [
    "def map_sequences(selected,subgroup=1):\n",
    "    kmers =list(selected['Sequence'])\n",
    "    transcriptome = (ref)\n",
    "    seqlist = []\n",
    "    hitlist = []\n",
    "    lenlist = []\n",
    "    s=0\n",
    "    for sequence in kmers:\n",
    "        s=s+1\n",
    "        print ('Looking for sequence ('+str(s)+'/'+str(len(kmers))+'): '+sequence + ' allowing ' + str(mismatches) + ' mismatches')\n",
    "        output= !C:/Users/sergio.salas/Downloads/cutadapt-3.4.exe -a $sequence --overlap 30 $transcriptome --no-indels -e $mismatches --action=retain --untrimmed-output C:\\Users\\sergio.salas\\Downloads\\here  \n",
    "        n=0\n",
    "        c2 = [line for line in output if line[0:1] == '>']\n",
    "        print ('Found '+str(len(c2))+' hits')\n",
    "        seqlist.append (sequence)\n",
    "        hitlist.append (c2)\n",
    "        lenlist.append (len(c2))\n",
    "    expoutput = pd.DataFrame(list(zip(seqlist, hitlist, lenlist)),\n",
    "                   columns =['sequence_with_Ns', 'hits', 'number_of_hits'])\n",
    "    bcf_all=pd.concat([selected.reset_index(),expoutput],axis=1)\n",
    "    bcf_all.to_csv(path+'mapped_sequences'+str(subgroup)+'.csv')\n",
    "    return bcf_all"
   ]
  },
  {
   "cell_type": "code",
   "execution_count": 8,
   "metadata": {},
   "outputs": [
    {
     "name": "stdout",
     "output_type": "stream",
     "text": [
      "Looking for sequence (1/6): GTGGTCAGTCTTCATGCAGCAGCCAACAGT allowing 5 mismatches\n",
      "Found 3 hits\n",
      "Looking for sequence (2/6): GTGGAACGAAGTCAGCTCCGGAAGCGCCGA allowing 5 mismatches\n",
      "Found 3 hits\n",
      "Looking for sequence (3/6): CTGCCTTACACCATGGACGCGTTCATGCTT allowing 5 mismatches\n",
      "Found 11 hits\n",
      "Looking for sequence (4/6): GGTGGACTGAGCTGGCAGACCTCACCAGAT allowing 5 mismatches\n",
      "Found 9 hits\n",
      "Looking for sequence (5/6): GAGGCTCAGCTAACGCTCAACAGCTACATC allowing 5 mismatches\n",
      "Found 2 hits\n",
      "Looking for sequence (6/6): CAAGATGAGGCTCAGCTAACGCTCAACAGC allowing 5 mismatches\n",
      "Found 2 hits\n"
     ]
    }
   ],
   "source": [
    "sel_mapped_seqs=map_sequences(selected_sequences,subgroup=1)"
   ]
  },
  {
   "cell_type": "markdown",
   "metadata": {},
   "source": [
    "# Check the amount of specific sequences for each gene"
   ]
  },
  {
   "cell_type": "markdown",
   "metadata": {},
   "source": [
    "After mapping the sequences against the reference genome, we check how many genes have all PLPs that we asked for ( `genes_good_PLPs` ), how many have less than expected (`genes_too_low_PLPs`) and how many have none ( `genes_no_PLPs` ). If we add to this groups, the list of `notfound_genes` where we couldn't design any k-mer against, all the genes we tested should fall under one of this categories. This is:\n",
    "* `notfound_genes`: genes either not found in the transcriptome OR without a common sequence in all variants/too short genes. We suggest to explore this genes further more to check if it's a naming problem or if it's a gene that is not suitable for ISS\n",
    "* `genes_no_PLPs`: potential k-mers have been found for that gene, but none has proven to be specific. Try rerunning `plp.select_sequences` but with a larger `number_of_seqs`. If genes persist in this list, it can mean that they do not have specific k-mers suitable for ISS due to lack of specificity\n",
    "* `genes_too_low_PLPs`: some potential k-mers have been found for this genes but they are not enough. Rerunning `plp.select_sequences` but with a larger `number_of_seqs` should really make it. Otherwise, consider ordering less PLPs for your gene of interest\n",
    "* `genes_good_PLPs`: you have everything that you needed for those genes"
   ]
  },
  {
   "cell_type": "code",
   "execution_count": 9,
   "metadata": {},
   "outputs": [],
   "source": [
    "specific_seqs1,genes_good_PLPs, genes_too_low_PLPs, genes_no_PLPs=plp.check_plps(sel_mapped_seqs,final_designed,genes,path,subgroup=1)"
   ]
  },
  {
   "cell_type": "markdown",
   "metadata": {},
   "source": [
    "# RUN2 : looking for specific k-mers for genes missing (subgroup 2)"
   ]
  },
  {
   "cell_type": "markdown",
   "metadata": {},
   "source": [
    "It's possible that you have group of genes that do not have enough specific k-mers in the first run. For these groups (present in `genes_too_low_PLPs` and `genes_no_PLPs` we will run another round of selection of potential k-mers to check their specificity. For this reason, we'll now modify the parameter `number_of_seqs` to be larger. This is considered as **`subgroup`=2** , and it's important to specify it in the functions. "
   ]
  },
  {
   "cell_type": "code",
   "execution_count": 10,
   "metadata": {},
   "outputs": [],
   "source": [
    "genes_to_redesign=list(genes_too_low_PLPs.index) # add genes_no_PLPs if needed to this list\n",
    "number_of_seqs=1"
   ]
  },
  {
   "cell_type": "code",
   "execution_count": 11,
   "metadata": {},
   "outputs": [],
   "source": [
    "selected_sequences2=plp.select_sequences(path,sequences,found_genes,number_of_seqs,subgroup=2)"
   ]
  },
  {
   "cell_type": "code",
   "execution_count": 12,
   "metadata": {},
   "outputs": [
    {
     "name": "stdout",
     "output_type": "stream",
     "text": [
      "Looking for sequence (1/3): ACTCCAAGGCTGTGTGTGCACCAGCCAGAG allowing 5 mismatches\n",
      "Found 1 hits\n",
      "Looking for sequence (2/3): ACTGCCTTACACCATGGACGCGTTCATGCT allowing 5 mismatches\n",
      "Found 11 hits\n",
      "Looking for sequence (3/3): CTCTACTGGCTGTATCTGGCATGAACGGTG allowing 5 mismatches\n",
      "Found 2 hits\n"
     ]
    }
   ],
   "source": [
    "sel_mapped_seqs2=map_sequences(selected_sequences2,subgroup=2)"
   ]
  },
  {
   "cell_type": "code",
   "execution_count": 13,
   "metadata": {},
   "outputs": [],
   "source": [
    "specific_seqs2,genes_good_PLPs2, genes_too_low_PLPs2, genes_no_PLPs2=plp.check_plps(sel_mapped_seqs2,final_designed,genes,path,subgroup=2)"
   ]
  },
  {
   "cell_type": "markdown",
   "metadata": {},
   "source": [
    "# Combine the specific sequences from different subgroups"
   ]
  },
  {
   "cell_type": "markdown",
   "metadata": {},
   "source": [
    "After we got the specific sequences for more than 1 run, we'd like to combine them to get a final list"
   ]
  },
  {
   "cell_type": "code",
   "execution_count": 14,
   "metadata": {},
   "outputs": [],
   "source": [
    "final_seqs=pd.concat([specific_seqs1,specific_seqs2],axis=0)"
   ]
  },
  {
   "cell_type": "code",
   "execution_count": 15,
   "metadata": {},
   "outputs": [],
   "source": [
    "specific_seqs_final,genes_good_PLPs_final, genes_too_low_PLPs_final, genes_no_PLPs_final=plp.check_plps(final_seqs,final_designed,genes,path,subgroup='final')"
   ]
  },
  {
   "cell_type": "markdown",
   "metadata": {},
   "source": [
    "# Assign Gene to Barcode"
   ]
  },
  {
   "cell_type": "markdown",
   "metadata": {},
   "source": [
    " Once we have specific targets for all genes, we can build the PLPs. For this, we use L_library_v2 as reference. By modifying the parameter `how`, we can select how to assign genes to Lbar_IDs.\n",
    " * We can  select `how='start'` and then set `on` to the first ID to assign to your gene.\n",
    " * We can  select `how='end'` and then set `on` to the last ID to assign to your gene.\n",
    " * We can also select `how='customized'` and provide as `on` the path to the csv with two columns, one for \"Gene\", and the other for \"Lbar_ID\"\n",
    " "
   ]
  },
  {
   "cell_type": "code",
   "execution_count": 16,
   "metadata": {},
   "outputs": [
    {
     "name": "stdout",
     "output_type": "stream",
     "text": [
      "I just processed 9 unique target sequences. I am done\n"
     ]
    }
   ],
   "source": [
    "customizedlib=r\"C:\\Users\\sergio.salas\\Documents\\PhD\\projects\\gene_design\\hower_example_5\\assigned_gene_LID.csv\"\n",
    "probes=plp.build_plps(path,specific_seqs_final,L_probe_library,plp_length,how='customized',on=customizedlib)"
   ]
  },
  {
   "cell_type": "code",
   "execution_count": 17,
   "metadata": {},
   "outputs": [
    {
     "data": {
      "text/html": [
       "<div>\n",
       "<style scoped>\n",
       "    .dataframe tbody tr th:only-of-type {\n",
       "        vertical-align: middle;\n",
       "    }\n",
       "\n",
       "    .dataframe tbody tr th {\n",
       "        vertical-align: top;\n",
       "    }\n",
       "\n",
       "    .dataframe thead th {\n",
       "        text-align: right;\n",
       "    }\n",
       "</style>\n",
       "<table border=\"1\" class=\"dataframe\">\n",
       "  <thead>\n",
       "    <tr style=\"text-align: right;\">\n",
       "      <th></th>\n",
       "      <th>sequence</th>\n",
       "      <th>Lbar_ID</th>\n",
       "      <th>AffyID</th>\n",
       "      <th>Gene</th>\n",
       "      <th>code</th>\n",
       "    </tr>\n",
       "  </thead>\n",
       "  <tbody>\n",
       "    <tr>\n",
       "      <th>0</th>\n",
       "      <td>CTGACTTCGTTCCACACGTGCCTAAAGTGTACTACTGCGTCTATTT...</td>\n",
       "      <td>LbarID_0227</td>\n",
       "      <td>Afy16K_ID2081</td>\n",
       "      <td>GLI3</td>\n",
       "      <td>232311</td>\n",
       "    </tr>\n",
       "    <tr>\n",
       "      <th>1</th>\n",
       "      <td>ATGAAGACTGACCACACGTGCCTAAAGTGTACTACTGCGTCTATTT...</td>\n",
       "      <td>LbarID_0227</td>\n",
       "      <td>Afy16K_ID2081</td>\n",
       "      <td>GLI3</td>\n",
       "      <td>232311</td>\n",
       "    </tr>\n",
       "    <tr>\n",
       "      <th>2</th>\n",
       "      <td>CATGGTGTAAGGCAGAGGTCTTGACAATAAGGACGTGCGTCTATTT...</td>\n",
       "      <td>LbarID_0229</td>\n",
       "      <td>Afy16K_ID2086</td>\n",
       "      <td>MSI2</td>\n",
       "      <td>441111</td>\n",
       "    </tr>\n",
       "    <tr>\n",
       "      <th>3</th>\n",
       "      <td>ATGGTGTAAGGCAGTAGGTCTTGACAATAAGGACGTGCGTCTATTT...</td>\n",
       "      <td>LbarID_0229</td>\n",
       "      <td>Afy16K_ID2086</td>\n",
       "      <td>MSI2</td>\n",
       "      <td>441111</td>\n",
       "    </tr>\n",
       "    <tr>\n",
       "      <th>4</th>\n",
       "      <td>CTGAGCCTCATCTTGAGGTCGTTAAGAGGCAATACTGCGTCTATTT...</td>\n",
       "      <td>LbarID_0228</td>\n",
       "      <td>Afy16K_ID2085</td>\n",
       "      <td>NR2E1</td>\n",
       "      <td>111211</td>\n",
       "    </tr>\n",
       "    <tr>\n",
       "      <th>5</th>\n",
       "      <td>CGTTAGCTGAGCCTCAGGTCGTTAAGAGGCAATACTGCGTCTATTT...</td>\n",
       "      <td>LbarID_0228</td>\n",
       "      <td>Afy16K_ID2085</td>\n",
       "      <td>NR2E1</td>\n",
       "      <td>111211</td>\n",
       "    </tr>\n",
       "  </tbody>\n",
       "</table>\n",
       "</div>"
      ],
      "text/plain": [
       "                                            sequence      Lbar_ID  \\\n",
       "0  CTGACTTCGTTCCACACGTGCCTAAAGTGTACTACTGCGTCTATTT...  LbarID_0227   \n",
       "1  ATGAAGACTGACCACACGTGCCTAAAGTGTACTACTGCGTCTATTT...  LbarID_0227   \n",
       "2  CATGGTGTAAGGCAGAGGTCTTGACAATAAGGACGTGCGTCTATTT...  LbarID_0229   \n",
       "3  ATGGTGTAAGGCAGTAGGTCTTGACAATAAGGACGTGCGTCTATTT...  LbarID_0229   \n",
       "4  CTGAGCCTCATCTTGAGGTCGTTAAGAGGCAATACTGCGTCTATTT...  LbarID_0228   \n",
       "5  CGTTAGCTGAGCCTCAGGTCGTTAAGAGGCAATACTGCGTCTATTT...  LbarID_0228   \n",
       "\n",
       "          AffyID   Gene    code  \n",
       "0  Afy16K_ID2081   GLI3  232311  \n",
       "1  Afy16K_ID2081   GLI3  232311  \n",
       "2  Afy16K_ID2086   MSI2  441111  \n",
       "3  Afy16K_ID2086   MSI2  441111  \n",
       "4  Afy16K_ID2085  NR2E1  111211  \n",
       "5  Afy16K_ID2085  NR2E1  111211  "
      ]
     },
     "execution_count": 17,
     "metadata": {},
     "output_type": "execute_result"
    }
   ],
   "source": [
    "probes"
   ]
  },
  {
   "cell_type": "code",
   "execution_count": null,
   "metadata": {},
   "outputs": [],
   "source": []
  }
 ],
 "metadata": {
  "kernelspec": {
   "display_name": "biopython",
   "language": "python",
   "name": "biopython"
  },
  "language_info": {
   "codemirror_mode": {
    "name": "ipython",
    "version": 3
   },
   "file_extension": ".py",
   "mimetype": "text/x-python",
   "name": "python",
   "nbconvert_exporter": "python",
   "pygments_lexer": "ipython3",
   "version": "3.8.5"
  }
 },
 "nbformat": 4,
 "nbformat_minor": 4
}
