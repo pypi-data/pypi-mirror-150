{
 "cells": [
  {
   "cell_type": "code",
   "execution_count": 1,
   "id": "72297821-1c92-4fe4-9e42-b8f4a1e153fe",
   "metadata": {},
   "outputs": [],
   "source": [
    "# https://livingwithmachines.ac.uk/d3-javascript-visualisation-in-a-python-jupyter-notebook/\n",
    "# you may need to install https://pypi.org/project/jupyter-require/"
   ]
  },
  {
   "cell_type": "code",
   "execution_count": 33,
   "id": "f91d6833-fd78-4731-9734-77ffa2193bc4",
   "metadata": {},
   "outputs": [
    {
     "data": {
      "application/javascript": [
       "alert('hello')\n"
      ],
      "text/plain": [
       "<IPython.core.display.Javascript object>"
      ]
     },
     "metadata": {},
     "output_type": "display_data"
    }
   ],
   "source": [
    "%%javascript\n",
    "alert('hello')"
   ]
  },
  {
   "cell_type": "code",
   "execution_count": 34,
   "id": "6c77a995-98ae-410a-8981-642c20f8fff8",
   "metadata": {},
   "outputs": [
    {
     "name": "stdout",
     "output_type": "stream",
     "text": [
      "The jupyter_require extension is already loaded. To reload it, use:\n",
      "  %reload_ext jupyter_require\n"
     ]
    }
   ],
   "source": [
    "%load_ext jupyter_require"
   ]
  },
  {
   "cell_type": "code",
   "execution_count": 40,
   "id": "9ae71a7b-82a4-44ed-8072-fa940fb68bd5",
   "metadata": {},
   "outputs": [
    {
     "ename": "JupyterRequireError",
     "evalue": "d3: Timeout. Library 'd3' is not loaded.",
     "output_type": "error",
     "traceback": [
      "Error: d3: Timeout. Library 'd3' is not loaded.",
      "    at errback (http://localhost:8888/nbextensions/jupyter-require/core.js?v=20220507203244:190:29)"
     ]
    },
    {
     "ename": "JupyterRequireError",
     "evalue": "d3: Timeout. Library 'd3' is not loaded.",
     "output_type": "error",
     "traceback": [
      "Error: d3: Timeout. Library 'd3' is not loaded.",
      "    at errback (http://localhost:8888/nbextensions/jupyter-require/core.js?v=20220507203244:190:29)"
     ]
    }
   ],
   "source": [
    "%requirejs d3 https://d3js.org/d3.v5.min.js"
   ]
  },
  {
   "cell_type": "code",
   "execution_count": 53,
   "id": "15cc1114",
   "metadata": {},
   "outputs": [
    {
     "data": {
      "application/javascript": [
       "require.config({ \n",
       "     paths: { \n",
       "     d3: 'https://d3js.org/d3.v5.min.js'\n",
       "}});\n"
      ],
      "text/plain": [
       "<IPython.core.display.Javascript object>"
      ]
     },
     "metadata": {},
     "output_type": "display_data"
    }
   ],
   "source": [
    "%%javascript\n",
    "require.config({ \n",
    "     paths: { \n",
    "     d3: 'https://d3js.org/d3.v5.min.js'\n",
    "}});"
   ]
  },
  {
   "cell_type": "code",
   "execution_count": 44,
   "id": "a167be03-9c42-4d74-bc7d-35a5af6c2aec",
   "metadata": {},
   "outputs": [
    {
     "data": {
      "application/javascript": [
       " (function(element) {\n",
       "     require(['d3'], function(d3) {   \n",
       "        d3.select(element.get(0)).append('text').text('hello world');\n",
       "     })\n",
       " })(element);\n"
      ],
      "text/plain": [
       "<IPython.core.display.Javascript object>"
      ]
     },
     "metadata": {},
     "output_type": "display_data"
    }
   ],
   "source": [
    "%%javascript\n",
    " (function(element) {\n",
    "     require(['d3'], function(d3) {   \n",
    "        d3.select(element.get(0)).append('text').text('hello world');\n",
    "     })\n",
    " })(element);"
   ]
  },
  {
   "cell_type": "code",
   "execution_count": 46,
   "id": "29b96d0c",
   "metadata": {},
   "outputs": [
    {
     "data": {
      "application/javascript": [
       "element.text('hello world');\n"
      ],
      "text/plain": [
       "<IPython.core.display.Javascript object>"
      ]
     },
     "metadata": {},
     "output_type": "display_data"
    }
   ],
   "source": [
    "%%javascript\n",
    "element.text('hello world');"
   ]
  },
  {
   "cell_type": "code",
   "execution_count": 47,
   "id": "7f50a374",
   "metadata": {},
   "outputs": [
    {
     "data": {
      "application/javascript": [
       " (function(element) {\n",
       "     require(['d3'], function(d3) {   \n",
       "        d3.select(element.get(0)).append('text').text('hello world');\n",
       "     })\n",
       " })(element)\n"
      ],
      "text/plain": [
       "<IPython.core.display.Javascript object>"
      ]
     },
     "metadata": {},
     "output_type": "display_data"
    }
   ],
   "source": [
    "%%javascript\n",
    " (function(element) {\n",
    "     require(['d3'], function(d3) {   \n",
    "        d3.select(element.get(0)).append('text').text('hello world');\n",
    "     })\n",
    " })(element)"
   ]
  },
  {
   "cell_type": "code",
   "execution_count": 29,
   "id": "ecd4613a-afd5-4ea2-9b07-5af65d5080df",
   "metadata": {},
   "outputs": [],
   "source": [
    "from jupyter_require import require\n",
    "from jupyter_require import load_css\n",
    "\n"
   ]
  },
  {
   "cell_type": "code",
   "execution_count": 54,
   "id": "c726876f-5338-46c7-9df8-02c710085267",
   "metadata": {},
   "outputs": [
    {
     "ename": "JupyterRequireError",
     "evalue": "d3: Timeout. Library 'd3' is not loaded.",
     "output_type": "error",
     "traceback": [
      "Error: d3: Timeout. Library 'd3' is not loaded.",
      "    at errback (http://localhost:8888/nbextensions/jupyter-require/core.js?v=20220507203244:190:29)"
     ]
    }
   ],
   "source": [
    "from pathlib import Path\n",
    "from jupyter_require import execute_with_requirements\n",
    "\n",
    "script = Path('d3-simple-example.js').read_text()\n",
    "\n",
    "execute_with_requirements(script, required=['d3'])"
   ]
  },
  {
   "cell_type": "code",
   "execution_count": 31,
   "id": "3c1f85e1-36da-4372-9c0c-236de9c34c39",
   "metadata": {},
   "outputs": [
    {
     "data": {
      "application/javascript": [
       " (function(element) {\n",
       "     require(['d3'], function(d3) {   \n",
       "        d3.select(element.get(0)).append('text').text('hello world');\n",
       "     })\n",
       " })(element);\n"
      ],
      "text/plain": [
       "<IPython.core.display.Javascript object>"
      ]
     },
     "metadata": {},
     "output_type": "display_data"
    }
   ],
   "source": [
    "%%javascript\n",
    " (function(element) {\n",
    "     require(['d3'], function(d3) {   \n",
    "        d3.select(element.get(0)).append('text').text('hello world');\n",
    "     })\n",
    " })(element);"
   ]
  },
  {
   "cell_type": "code",
   "execution_count": 72,
   "id": "0bc2d20e-89e8-4664-abe3-41ed2ec2871d",
   "metadata": {},
   "outputs": [
    {
     "data": {
      "application/javascript": [
       "    var script = document.createElement('script');\n",
       "    script.type = 'text/javascript';\n",
       "    script.src = 'https://cdnjs.cloudflare.com/ajax/libs/d3/4.13.0/d3.js';\n",
       "    document.head.appendChild(script);\n",
       "    console.log(window.d3)\n"
      ],
      "text/plain": [
       "<IPython.core.display.Javascript object>"
      ]
     },
     "metadata": {},
     "output_type": "display_data"
    }
   ],
   "source": [
    "%%javascript\n",
    "    var script = document.createElement('script');\n",
    "    script.type = 'text/javascript';\n",
    "    script.src = 'https://cdnjs.cloudflare.com/ajax/libs/d3/4.13.0/d3.js';\n",
    "    document.head.appendChild(script);\n",
    "    console.log(window.d3)"
   ]
  },
  {
   "cell_type": "code",
   "execution_count": 73,
   "id": "958bf4ea",
   "metadata": {},
   "outputs": [],
   "source": [
    "from IPython.display import HTML"
   ]
  },
  {
   "cell_type": "code",
   "execution_count": 77,
   "id": "1ec00bf2",
   "metadata": {},
   "outputs": [
    {
     "data": {
      "text/html": [
       "<script src=\"https://d3js.org/d3.v5.min.js\" type=\"text/javascript\" />"
      ],
      "text/plain": [
       "<IPython.core.display.HTML object>"
      ]
     },
     "execution_count": 77,
     "metadata": {},
     "output_type": "execute_result"
    }
   ],
   "source": [
    "HTML('<script src=\"https://d3js.org/d3.v5.min.js\" type=\"text/javascript\" />')"
   ]
  },
  {
   "cell_type": "code",
   "execution_count": 82,
   "id": "b6c9ea6e",
   "metadata": {},
   "outputs": [
    {
     "data": {
      "text/html": [
       "\n",
       "<script src=\"https://d3js.org/d3.v5.min.js\" type=\"text/javascript\" />\n",
       "<div id=\"d3-circle-animation\"></div>\n",
       "<script type=\"text/javascript\">\n",
       "var svg = d3.select(\"#d3-circle-animation\")\n",
       "    .append(\"svg\")\n",
       "    .attr(\"width\", 300)\n",
       "    .attr(\"height\", 300);    \n",
       "\n",
       "svg.append(\"circle\")\n",
       "    .style(\"stroke\", \"gray\")\n",
       "    .style(\"fill\", \"cyan\")\n",
       "    .attr(\"r\", 130)\n",
       "    .attr(\"cx\", 150)\n",
       "    .attr(\"cy\", 150)\n",
       "    .transition()\n",
       "        .delay(100)\n",
       "        .duration(10000)  \n",
       "        .attr(\"r\", 10)\n",
       "        .attr(\"cx\", 150)\n",
       "        .style(\"fill\", \"blue\"); \n",
       "\n",
       "</script>"
      ],
      "text/plain": [
       "<IPython.core.display.HTML object>"
      ]
     },
     "execution_count": 82,
     "metadata": {},
     "output_type": "execute_result"
    }
   ],
   "source": [
    "svg_script = '''\n",
    "<script src=\"https://d3js.org/d3.v5.min.js\" type=\"text/javascript\" />\n",
    "<div id=\"d3-circle-animation\"></div>\n",
    "<script type=\"text/javascript\">\n",
    "var svg = d3.select(\"#d3-circle-animation\")\n",
    "    .append(\"svg\")\n",
    "    .attr(\"width\", 300)\n",
    "    .attr(\"height\", 300);    \n",
    "\n",
    "svg.append(\"circle\")\n",
    "    .style(\"stroke\", \"gray\")\n",
    "    .style(\"fill\", \"cyan\")\n",
    "    .attr(\"r\", 130)\n",
    "    .attr(\"cx\", 150)\n",
    "    .attr(\"cy\", 150)\n",
    "    .transition()\n",
    "        .delay(100)\n",
    "        .duration(10000)  \n",
    "        .attr(\"r\", 10)\n",
    "        .attr(\"cx\", 150)\n",
    "        .style(\"fill\", \"blue\"); \n",
    "\n",
    "</script>'''\n",
    "\n",
    "HTML(svg_script)"
   ]
  },
  {
   "cell_type": "code",
   "execution_count": 64,
   "id": "f58920a3",
   "metadata": {},
   "outputs": [],
   "source": [
    "from IPython.display import Javascript"
   ]
  },
  {
   "cell_type": "code",
   "execution_count": 67,
   "id": "030063aa",
   "metadata": {},
   "outputs": [
    {
     "data": {
      "application/javascript": [
       "\n",
       "var svg = d3.select(element)\n",
       "    .append(\"svg\")\n",
       "    .attr(\"width\", 300)\n",
       "    .attr(\"height\", 300);    \n",
       "\n",
       "svg.append(\"circle\")\n",
       "    .style(\"stroke\", \"gray\")\n",
       "    .style(\"fill\", \"cyan\")\n",
       "    .attr(\"r\", 130)\n",
       "    .attr(\"cx\", 150)\n",
       "    .attr(\"cy\", 150)\n",
       "    .transition()\n",
       "        .delay(100)\n",
       "        .duration(10000)  \n",
       "        .attr(\"r\", 10)\n",
       "        .attr(\"cx\", 150)\n",
       "        .style(\"fill\", \"blue\"); \n"
      ],
      "text/plain": [
       "<IPython.core.display.Javascript object>"
      ]
     },
     "execution_count": 67,
     "metadata": {},
     "output_type": "execute_result"
    }
   ],
   "source": [
    "svg_script = '''\n",
    "var svg = d3.select(element)\n",
    "    .append(\"svg\")\n",
    "    .attr(\"width\", 300)\n",
    "    .attr(\"height\", 300);    \n",
    "\n",
    "svg.append(\"circle\")\n",
    "    .style(\"stroke\", \"gray\")\n",
    "    .style(\"fill\", \"cyan\")\n",
    "    .attr(\"r\", 130)\n",
    "    .attr(\"cx\", 150)\n",
    "    .attr(\"cy\", 150)\n",
    "    .transition()\n",
    "        .delay(100)\n",
    "        .duration(10000)  \n",
    "        .attr(\"r\", 10)\n",
    "        .attr(\"cx\", 150)\n",
    "        .style(\"fill\", \"blue\"); \n",
    "'''\n",
    "\n",
    "Javascript(svg_script)"
   ]
  },
  {
   "cell_type": "code",
   "execution_count": null,
   "id": "b0b24314",
   "metadata": {},
   "outputs": [],
   "source": []
  }
 ],
 "metadata": {
  "finalized": {
   "timestamp": 1651975168583,
   "trusted": true
  },
  "kernelspec": {
   "display_name": "Python 3 (ipykernel)",
   "language": "python",
   "name": "python3"
  },
  "language_info": {
   "codemirror_mode": {
    "name": "ipython",
    "version": 3
   },
   "file_extension": ".py",
   "mimetype": "text/x-python",
   "name": "python",
   "nbconvert_exporter": "python",
   "pygments_lexer": "ipython3",
   "version": "3.9.12"
  }
 },
 "nbformat": 4,
 "nbformat_minor": 5
}
