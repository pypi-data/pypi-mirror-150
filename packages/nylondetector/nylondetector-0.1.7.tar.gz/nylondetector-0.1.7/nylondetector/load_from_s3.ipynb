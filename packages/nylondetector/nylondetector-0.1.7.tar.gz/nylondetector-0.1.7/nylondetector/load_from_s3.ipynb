{
 "cells": [
  {
   "cell_type": "code",
   "execution_count": 2,
   "metadata": {},
   "outputs": [],
   "source": [
    "import os\n",
    "\n",
    "import pandas as pd\n",
    "\n",
    "from util.S3Manager import S3Manager\n",
    "\n",
    "doubtful_hospital_list = pd.read_csv(os.path.join('preprocess', 'hospital_list.csv'), delimiter='\\t')\n",
    "\n",
    "def expand_files(path, delimiter='||'):\n",
    "    raw_file = pd.read_table(path, error_bad_lines=False)\n",
    "\n",
    "    column = raw_file.columns[0]\n",
    "    columns_list = column.split(delimiter)\n",
    "\n",
    "    result = pd.DataFrame(list(raw_file[column].map(lambda x: x.split(delimiter))))\n",
    "    result.columns = columns_list\n",
    "\n",
    "    result.to_csv(f\"{path.split('.csv')[0]}_expanded.csv\", encoding='utf-8-sig')"
   ]
  },
  {
   "cell_type": "code",
   "execution_count": 3,
   "metadata": {},
   "outputs": [
    {
     "name": "stdout",
     "output_type": "stream",
     "text": [
      "Download files to current directory (/home/sagemaker-user/nylon-detector/nylon-detector)\n",
      "2021-11-29 07:48:47,963 - root - INFO - download : nylon-detector/crawl_data/백내장+부수입/contents/blog_contents_백내장+부수입_from2020-11-21_to2021-11-21.csv to Target: data/blog_contents_백내장+부수입_from2020-11-21_to2021-11-21.csv Success.\n",
      "2021-11-29 07:48:48,782 - root - INFO - download : nylon-detector/crawl_data/백내장+소개/contents/blog_contents_백내장+소개_from2020-11-21_to2021-11-21.csv to Target: data/blog_contents_백내장+소개_from2020-11-21_to2021-11-21.csv Success.\n",
      "2021-11-29 07:48:49,110 - root - INFO - download : nylon-detector/crawl_data/백내장+수당/contents/blog_contents_백내장+수당_from2020-11-21_to2021-11-21.csv to Target: data/blog_contents_백내장+수당_from2020-11-21_to2021-11-21.csv Success.\n",
      "2021-11-29 07:48:49,457 - root - INFO - download : nylon-detector/crawl_data/백내장+숙소/contents/blog_contents_백내장+숙소_from2020-11-21_to2021-11-21.csv to Target: data/blog_contents_백내장+숙소_from2020-11-21_to2021-11-21.csv Success.\n",
      "2021-11-29 07:48:49,781 - root - INFO - download : nylon-detector/crawl_data/백내장+실비/contents/blog_contents_백내장+실비_from2020-11-21_to2021-11-21.csv to Target: data/blog_contents_백내장+실비_from2020-11-21_to2021-11-21.csv Success.\n",
      "2021-11-29 07:48:50,133 - root - INFO - download : nylon-detector/crawl_data/백내장+실손/contents/blog_contents_백내장+실손_from2020-11-21_to2021-11-21.csv to Target: data/blog_contents_백내장+실손_from2020-11-21_to2021-11-21.csv Success.\n",
      "2021-11-29 07:48:50,306 - root - INFO - download : nylon-detector/crawl_data/백내장+페이백/contents/blog_contents_백내장+페이백_from2020-11-21_to2021-11-21.csv to Target: data/blog_contents_백내장+페이백_from2020-11-21_to2021-11-21.csv Success.\n",
      "2021-11-29 07:48:50,790 - root - INFO - download : nylon-detector/crawl_data/백내장+할인/contents/blog_contents_백내장+할인_from2020-11-21_to2021-11-21.csv to Target: data/blog_contents_백내장+할인_from2020-11-21_to2021-11-21.csv Success.\n",
      "2021-11-29 07:48:51,138 - root - INFO - download : nylon-detector/crawl_data/백내장+호텔/contents/blog_contents_백내장+호텔_from2020-11-21_to2021-11-21.csv to Target: data/blog_contents_백내장+호텔_from2020-11-21_to2021-11-21.csv Success.\n",
      "9 files downloaded succesfully\n"
     ]
    }
   ],
   "source": [
    "### Download files from s3 to current dircetory\n",
    "\n",
    "print(f'Download files to current directory ({os.getcwd()})')\n",
    "s3_mng = S3Manager()\n",
    "\n",
    "dir_list = s3_mng.list_dir(prefix='nylon-detector/crawl_data/')\n",
    "dir_list = [f'{dir_keyword}contents/' for dir_keyword in dir_list]\n",
    "\n",
    "file_path = [s3_mng.list_dir(prefix = x)[0] for x in dir_list]\n",
    "down_dest = [f\"data/{path.split('/')[-1]}\" for path in file_path]\n",
    "\n",
    "try:\n",
    "    for i in range(len(file_path)):\n",
    "        s3_mng.download_file(file_path[i], down_dest[i])\n",
    "    print(f'{len(file_path)} files downloaded succesfully')\n",
    "except:\n",
    "    print('Something went wrong while downloading')"
   ]
  },
  {
   "cell_type": "code",
   "execution_count": 4,
   "metadata": {},
   "outputs": [
    {
     "name": "stdout",
     "output_type": "stream",
     "text": [
      "9 files downloaded succesfully\n"
     ]
    }
   ],
   "source": [
    "### Expand files\n",
    "try:\n",
    "    for i in range(len(down_dest)):\n",
    "        expand_files(down_dest[i])\n",
    "    print(f'{len(file_path)} files downloaded succesfully')\n",
    "except:\n",
    "    print('Something went wrong while expanding')"
   ]
  },
  {
   "cell_type": "markdown",
   "metadata": {},
   "source": [
    "---"
   ]
  }
 ],
 "metadata": {
  "instance_type": "ml.t3.medium",
  "kernelspec": {
   "display_name": "python3 (sagemaker-bda/2)",
   "language": "python",
   "name": "python3__SAGEMAKER_INTERNAL__arn:aws:sagemaker:ap-northeast-2:596564582792:image-version/sagemaker-bda/2"
  },
  "language_info": {
   "codemirror_mode": {
    "name": "ipython",
    "version": 3
   },
   "file_extension": ".py",
   "mimetype": "text/x-python",
   "name": "python",
   "nbconvert_exporter": "python",
   "pygments_lexer": "ipython3",
   "version": "3.6.9"
  }
 },
 "nbformat": 4,
 "nbformat_minor": 4
}