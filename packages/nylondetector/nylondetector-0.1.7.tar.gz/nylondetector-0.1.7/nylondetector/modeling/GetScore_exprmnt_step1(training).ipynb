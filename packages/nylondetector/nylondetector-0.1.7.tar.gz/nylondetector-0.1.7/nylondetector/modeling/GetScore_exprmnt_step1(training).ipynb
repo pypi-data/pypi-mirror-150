{
 "cells": [
  {
   "cell_type": "code",
   "execution_count": 2,
   "metadata": {},
   "outputs": [],
   "source": [
    "import os\n",
    "import sys\n",
    "import itertools\n",
    "sys.path.append('../preprocess')\n",
    "\n",
    "import re\n",
    "import joblib\n",
    "import pickle\n",
    "import numpy as np\n",
    "import pandas as pd\n",
    "import xgboost as xgb\n",
    "from konlpy.tag import Komoran\n",
    "from datetime import datetime as dt\n",
    "from sklearn.pipeline import Pipeline\n",
    "from datetime import timedelta as tmdt\n",
    "from sklearn.pipeline import FeatureUnion\n",
    "from gensim.sklearn_api import D2VTransformer\n",
    "from sklearn.model_selection import GridSearchCV\n",
    "from sklearn.model_selection import train_test_split\n",
    "from sklearn.metrics.pairwise import cosine_similarity\n",
    "\n",
    "from text_handling import flatten\n",
    "from text_handling import do_text_ma\n",
    "from text_handling import make_ngram\n",
    "from get_clf_eval import get_clf_eval\n",
    "from text_handling import text_preproc\n",
    "from text_handling import add_ngrams_to_ma\n",
    "from d2v_input_transformer_2 import D2VInputTransformer"
   ]
  },
  {
   "cell_type": "markdown",
   "metadata": {},
   "source": [
    "# `['실비', '실손', '혜택', '할인']`만으로 `keyword_table` 만들어보기"
   ]
  },
  {
   "cell_type": "code",
   "execution_count": 3,
   "metadata": {},
   "outputs": [
    {
     "name": "stdout",
     "output_type": "stream",
     "text": [
      "(834, 27)\n"
     ]
    },
    {
     "data": {
      "text/plain": [
       "Index(['최초 No.', 'date', 'name', 'title', 'url', 'content', 'replies',\n",
       "       'hsptl_name', 'hsptl_name_2', 'result_hsptl_name_2', '실손', '실비', '수수료',\n",
       "       '수당', '할인', '페이백', '소개', '부수입', '호텔', '숙소', '실_손', '페이_백', '수_당', '분류자',\n",
       "       '점검대상', '점검대상 선정 키워드', '부당행위 유/무'],\n",
       "      dtype='object')"
      ]
     },
     "execution_count": 3,
     "metadata": {},
     "output_type": "execute_result"
    }
   ],
   "source": [
    "with(open('백내장_레이블포함_ver1.pas')) as f_pas:\n",
    "    df_with_lbl = pd.read_csv(f_pas, delimiter=\"|\")\n",
    "    \n",
    "print(df_with_lbl.shape)\n",
    "df_with_lbl.columns"
   ]
  },
  {
   "cell_type": "code",
   "execution_count": 4,
   "metadata": {},
   "outputs": [
    {
     "name": "stdout",
     "output_type": "stream",
     "text": [
      "(419, 27)\n"
     ]
    }
   ],
   "source": [
    "lbl_filter = lambda x: x=='0' or x=='1'\n",
    "\n",
    "df_with_lbl = df_with_lbl.loc[df_with_lbl['부당행위 유/무'].map(lbl_filter)]\n",
    "df_with_lbl['부당행위 유/무']  = df_with_lbl['부당행위 유/무'].astype(int)\n",
    "print(df_with_lbl.shape)"
   ]
  },
  {
   "cell_type": "code",
   "execution_count": 5,
   "metadata": {},
   "outputs": [
    {
     "name": "stdout",
     "output_type": "stream",
     "text": [
      "(418, 27)\n"
     ]
    }
   ],
   "source": [
    "df_with_lbl = df_with_lbl.loc[~df_with_lbl['content'].isna()]\n",
    "df_with_lbl = df_with_lbl.loc[df_with_lbl['content'].map(lambda x: '동물병원' not in x)]\n",
    "print(df_with_lbl.shape)"
   ]
  },
  {
   "cell_type": "code",
   "execution_count": 6,
   "metadata": {},
   "outputs": [],
   "source": [
    "with open('doc_embedded_vector.pkl', 'rb') as f:\n",
    "    doc_embedded_vector = pickle.load(f)\n",
    "    \n",
    "doc_embd_df = pd.DataFrame(doc_embedded_vector)\n",
    "doc_embd_df.index = df_with_lbl.index"
   ]
  },
  {
   "cell_type": "code",
   "execution_count": 7,
   "metadata": {},
   "outputs": [],
   "source": [
    "orgn_lbls = df_with_lbl['부당행위 유/무']"
   ]
  },
  {
   "cell_type": "code",
   "execution_count": 8,
   "metadata": {},
   "outputs": [],
   "source": [
    "df_with_lbl['혜택'] = df_with_lbl['content'].map(lambda x: x.count('혜택'))"
   ]
  },
  {
   "cell_type": "code",
   "execution_count": 9,
   "metadata": {},
   "outputs": [
    {
     "data": {
      "text/plain": [
       "Index(['최초 No.', 'date', 'name', 'title', 'url', 'content', 'replies',\n",
       "       'hsptl_name', 'hsptl_name_2', 'result_hsptl_name_2', '실손', '실비', '수수료',\n",
       "       '수당', '할인', '페이백', '소개', '부수입', '호텔', '숙소', '실_손', '페이_백', '수_당', '분류자',\n",
       "       '점검대상', '점검대상 선정 키워드', '부당행위 유/무', '혜택'],\n",
       "      dtype='object')"
      ]
     },
     "execution_count": 9,
     "metadata": {},
     "output_type": "execute_result"
    }
   ],
   "source": [
    "df_with_lbl.columns"
   ]
  },
  {
   "cell_type": "code",
   "execution_count": 10,
   "metadata": {},
   "outputs": [
    {
     "data": {
      "text/html": [
       "<div>\n",
       "<style scoped>\n",
       "    .dataframe tbody tr th:only-of-type {\n",
       "        vertical-align: middle;\n",
       "    }\n",
       "\n",
       "    .dataframe tbody tr th {\n",
       "        vertical-align: top;\n",
       "    }\n",
       "\n",
       "    .dataframe thead th {\n",
       "        text-align: right;\n",
       "    }\n",
       "</style>\n",
       "<table border=\"1\" class=\"dataframe\">\n",
       "  <thead>\n",
       "    <tr style=\"text-align: right;\">\n",
       "      <th></th>\n",
       "      <th>실손</th>\n",
       "      <th>실비</th>\n",
       "      <th>할인</th>\n",
       "      <th>혜택</th>\n",
       "      <th>실_손</th>\n",
       "    </tr>\n",
       "  </thead>\n",
       "  <tbody>\n",
       "    <tr>\n",
       "      <th>0</th>\n",
       "      <td>0</td>\n",
       "      <td>0</td>\n",
       "      <td>0</td>\n",
       "      <td>0</td>\n",
       "      <td>0</td>\n",
       "    </tr>\n",
       "    <tr>\n",
       "      <th>1</th>\n",
       "      <td>0</td>\n",
       "      <td>0</td>\n",
       "      <td>0</td>\n",
       "      <td>0</td>\n",
       "      <td>0</td>\n",
       "    </tr>\n",
       "    <tr>\n",
       "      <th>2</th>\n",
       "      <td>0</td>\n",
       "      <td>0</td>\n",
       "      <td>0</td>\n",
       "      <td>0</td>\n",
       "      <td>0</td>\n",
       "    </tr>\n",
       "  </tbody>\n",
       "</table>\n",
       "</div>"
      ],
      "text/plain": [
       "   실손  실비  할인  혜택  실_손\n",
       "0   0   0   0   0    0\n",
       "1   0   0   0   0    0\n",
       "2   0   0   0   0    0"
      ]
     },
     "execution_count": 10,
     "metadata": {},
     "output_type": "execute_result"
    }
   ],
   "source": [
    "kywrd_table = df_with_lbl[['실손', '실비', '할인', '혜택', '실_손']]\n",
    "kywrd_table.head(3)"
   ]
  },
  {
   "cell_type": "markdown",
   "metadata": {},
   "source": [
    "# 학습 및 모델 저장"
   ]
  },
  {
   "cell_type": "code",
   "execution_count": 11,
   "metadata": {},
   "outputs": [],
   "source": [
    "X_fin = pd.concat([kywrd_table, doc_embd_df], axis=1)\n",
    "y = orgn_lbls\n",
    "\n",
    "X_fin_train, X_fin_test, y_train, y_test = train_test_split(X_fin, y)"
   ]
  },
  {
   "cell_type": "code",
   "execution_count": 12,
   "metadata": {},
   "outputs": [
    {
     "name": "stdout",
     "output_type": "stream",
     "text": [
      "CPU times: user 13.5 s, sys: 60.4 ms, total: 13.6 s\n",
      "Wall time: 7.02 s\n"
     ]
    },
    {
     "data": {
      "text/plain": [
       "GridSearchCV(estimator=Pipeline(steps=[('clf',\n",
       "                                        XGBClassifier(base_score=None,\n",
       "                                                      booster=None,\n",
       "                                                      colsample_bylevel=None,\n",
       "                                                      colsample_bynode=None,\n",
       "                                                      colsample_bytree=None,\n",
       "                                                      enable_categorical=False,\n",
       "                                                      eval_metric='logloss',\n",
       "                                                      gamma=None, gpu_id=None,\n",
       "                                                      importance_type=None,\n",
       "                                                      interaction_constraints=None,\n",
       "                                                      learning_rate=None,\n",
       "                                                      max_delta_step=None,\n",
       "                                                      max_depth=None,\n",
       "                                                      min_child_weight=None,\n",
       "                                                      missing=nan,\n",
       "                                                      monotone_constraints=None,\n",
       "                                                      n_estimators=100,\n",
       "                                                      n_jobs=None,\n",
       "                                                      num_parallel_tree=None,\n",
       "                                                      predictor=None,\n",
       "                                                      random_state=None,\n",
       "                                                      reg_alpha=None,\n",
       "                                                      reg_lambda=None,\n",
       "                                                      scale_pos_weight=None,\n",
       "                                                      subsample=None,\n",
       "                                                      tree_method=None,\n",
       "                                                      validate_parameters=None,\n",
       "                                                      verbosity=None))]),\n",
       "             param_grid={'clf__n_estimators': [100, 110, 120]})"
      ]
     },
     "execution_count": 12,
     "metadata": {},
     "output_type": "execute_result"
    }
   ],
   "source": [
    "%%time\n",
    "\n",
    "pipeline_clf = Pipeline([\n",
    "    ('clf', xgb.XGBClassifier(eval_metric = 'logloss'))\n",
    "])\n",
    "\n",
    "parameters_clf = {\n",
    "    'clf__n_estimators': [100, 110, 120]\n",
    "}\n",
    "\n",
    "cv_clf = GridSearchCV(pipeline_clf, parameters_clf)\n",
    "cv_clf.fit(X_fin_train, y_train)"
   ]
  },
  {
   "cell_type": "code",
   "execution_count": 13,
   "metadata": {},
   "outputs": [
    {
     "data": {
      "text/plain": [
       "Pipeline(steps=[('clf',\n",
       "                 XGBClassifier(base_score=0.5, booster='gbtree',\n",
       "                               colsample_bylevel=1, colsample_bynode=1,\n",
       "                               colsample_bytree=1, enable_categorical=False,\n",
       "                               eval_metric='logloss', gamma=0, gpu_id=-1,\n",
       "                               importance_type=None, interaction_constraints='',\n",
       "                               learning_rate=0.300000012, max_delta_step=0,\n",
       "                               max_depth=6, min_child_weight=1, missing=nan,\n",
       "                               monotone_constraints='()', n_estimators=120,\n",
       "                               n_jobs=2, num_parallel_tree=1, predictor='auto',\n",
       "                               random_state=0, reg_alpha=0, reg_lambda=1,\n",
       "                               scale_pos_weight=1, subsample=1,\n",
       "                               tree_method='exact', validate_parameters=1,\n",
       "                               verbosity=None))])"
      ]
     },
     "execution_count": 13,
     "metadata": {},
     "output_type": "execute_result"
    }
   ],
   "source": [
    "best_model_clf = cv_clf.best_estimator_\n",
    "best_model_clf.fit(X_fin_train, y_train)"
   ]
  },
  {
   "cell_type": "code",
   "execution_count": 14,
   "metadata": {},
   "outputs": [
    {
     "name": "stdout",
     "output_type": "stream",
     "text": [
      "오차행렬:\n",
      " [[65 10]\n",
      " [10 20]]\n",
      "\n",
      "정확도: 0.8095\n",
      "정밀도: 0.6667\n",
      "재현율: 0.6667\n",
      "F1: 0.6667\n",
      "AUC: 0.7667\n"
     ]
    }
   ],
   "source": [
    "y_pred = best_model_clf.predict(X_fin_test)\n",
    "    \n",
    "get_clf_eval(y_test, y_pred)"
   ]
  },
  {
   "cell_type": "code",
   "execution_count": 15,
   "metadata": {},
   "outputs": [
    {
     "data": {
      "text/plain": [
       "['siu_clf_ver2.sav']"
      ]
     },
     "execution_count": 15,
     "metadata": {},
     "output_type": "execute_result"
    }
   ],
   "source": [
    "joblib.dump(best_model_clf, 'siu_clf_ver2.sav')"
   ]
  },
  {
   "cell_type": "markdown",
   "metadata": {},
   "source": [
    "---"
   ]
  }
 ],
 "metadata": {
  "instance_type": "ml.m5.large",
  "kernelspec": {
   "display_name": "python3 (sagemaker-bda/2)",
   "language": "python",
   "name": "python3__SAGEMAKER_INTERNAL__arn:aws:sagemaker:ap-northeast-2:596564582792:image-version/sagemaker-bda/2"
  },
  "language_info": {
   "codemirror_mode": {
    "name": "ipython",
    "version": 3
   },
   "file_extension": ".py",
   "mimetype": "text/x-python",
   "name": "python",
   "nbconvert_exporter": "python",
   "pygments_lexer": "ipython3",
   "version": "3.6.9"
  }
 },
 "nbformat": 4,
 "nbformat_minor": 4
}
