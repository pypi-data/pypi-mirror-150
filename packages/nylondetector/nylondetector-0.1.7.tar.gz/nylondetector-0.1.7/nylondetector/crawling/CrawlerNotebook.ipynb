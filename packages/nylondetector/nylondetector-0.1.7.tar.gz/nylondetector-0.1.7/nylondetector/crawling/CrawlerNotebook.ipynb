{
 "cells": [
  {
   "cell_type": "markdown",
   "metadata": {},
   "source": [
    "# 0. 기본 설정 (필수실행, 수정 금지)"
   ]
  },
  {
   "cell_type": "code",
   "execution_count": null,
   "metadata": {},
   "outputs": [],
   "source": [
    "import os\n",
    "import sys\n",
    "import time\n",
    "import warnings\n",
    "import itertools\n",
    "warnings.filterwarnings('ignore')\n",
    "\n",
    "import pandas as pd\n",
    "import ujson as json\n",
    "from datetime import datetime\n",
    "from dateutil.relativedelta import relativedelta\n",
    "\n",
    "from nylondetector.modeling.get_score import *\n",
    "from blog_hospital_crawler import HospitalCrawler\n",
    "from cafe_crawl_srch_content import get_srch_cafe_df"
   ]
  },
  {
   "cell_type": "markdown",
   "metadata": {},
   "source": [
    "---"
   ]
  },
  {
   "cell_type": "markdown",
   "metadata": {},
   "source": [
    "# 1. 블로그"
   ]
  },
  {
   "cell_type": "markdown",
   "metadata": {},
   "source": [
    "# 1-1. 수집"
   ]
  },
  {
   "cell_type": "markdown",
   "metadata": {},
   "source": [
    "## ⭐️파라미터 설정(수정가능구역)"
   ]
  },
  {
   "cell_type": "code",
   "execution_count": null,
   "metadata": {},
   "outputs": [],
   "source": [
    "keyword_list = ['\"강남아이원스안과\"']\n",
    "\n",
    "start_date = 20220401\n",
    "how_many_months = 2\n",
    "\n",
    "count_word_list = ['실비']"
   ]
  },
  {
   "cell_type": "markdown",
   "metadata": {},
   "source": [
    "### URL 스크래핑"
   ]
  },
  {
   "cell_type": "code",
   "execution_count": null,
   "metadata": {},
   "outputs": [],
   "source": [
    "hc = HospitalCrawler(start_date)"
   ]
  },
  {
   "cell_type": "code",
   "execution_count": 5,
   "metadata": {},
   "outputs": [
    {
     "name": "stdout",
     "output_type": "stream",
     "text": [
      "\"강남아이원스안과\" start\n",
      "From 20220301 to 20220401\n",
      "From 20220201 to 20220301\n",
      "\"강남아이원스안과\" end\n",
      "elapsed = 33.53213858604431\n"
     ]
    }
   ],
   "source": [
    "start = time.time()\n",
    "for keyword in keyword_list:\n",
    "    hc.crawl_blog_urls(keyword, how_many_months, 133) # 133 is heuristic number.\n",
    "end = time.time() - start\n",
    "\n",
    "print(f'elapsed = {end}')"
   ]
  },
  {
   "cell_type": "markdown",
   "metadata": {},
   "source": [
    "### URL 중복제거"
   ]
  },
  {
   "cell_type": "code",
   "execution_count": 6,
   "metadata": {},
   "outputs": [
    {
     "name": "stdout",
     "output_type": "stream",
     "text": [
      "elapsed = 4.89771842956543\n"
     ]
    }
   ],
   "source": [
    "start = time.time()\n",
    "hc.deduplicate_url()\n",
    "end = time.time() - start\n",
    "\n",
    "print(f'elapsed = {end}')"
   ]
  },
  {
   "cell_type": "markdown",
   "metadata": {},
   "source": [
    "### 수집된 URL 기반으로 본문 스크래핑"
   ]
  },
  {
   "cell_type": "code",
   "execution_count": 10,
   "metadata": {},
   "outputs": [
    {
     "name": "stdout",
     "output_type": "stream",
     "text": [
      "강남아이원스안과 start\n",
      "process 강남아이원스안과 from 0 to 500\n",
      "강남아이원스안과 end\n",
      "elapsed = 1.7863726615905762\n"
     ]
    }
   ],
   "source": [
    "keyword_dir_list = [x.replace('\"', '') for x in keyword_list]\n",
    "\n",
    "start = time.time()\n",
    "for keyword_dir in keyword_dir_list:\n",
    "    hc.crawl_blog_contents(keyword_dir)\n",
    "end = time.time() - start\n",
    "\n",
    "print(f'elapsed = {end}')"
   ]
  },
  {
   "cell_type": "markdown",
   "metadata": {},
   "source": [
    "### 읽을 수 있도록 인코딩 변환 & 단어 카운트 후 저장"
   ]
  },
  {
   "cell_type": "code",
   "execution_count": 11,
   "metadata": {},
   "outputs": [
    {
     "name": "stdout",
     "output_type": "stream",
     "text": [
      "elapsed = 0.7964391708374023\n"
     ]
    }
   ],
   "source": [
    "start = time.time()\n",
    "\n",
    "for keyword_dir in keyword_dir_list:\n",
    "    cntnts_dir = f'data/blog/{keyword_dir}/contents'\n",
    "    file_paths = [f'{cntnts_dir}/{x}' for x in os.listdir(cntnts_dir) if 'ipynb' not in x and 'rdbl' not in x]\n",
    "    \n",
    "    for path in file_paths:\n",
    "        blog_cntnts = pd.read_csv(path, delimiter='|DELIMITER|')\n",
    "        \n",
    "        blog_cntnts_cols = blog_cntnts.columns[0].split('|DELIMITER|')\n",
    "        blog_cntnts_2 = blog_cntnts[blog_cntnts.squeeze().map(lambda x: len(x)<50000)]\n",
    "        blog_cntnts_series = blog_cntnts_2.squeeze().map(lambda x: x.split('|DELIMITER|'))\n",
    "        \n",
    "        rslt = pd.DataFrame.from_dict(dict(zip(blog_cntnts_series.index, blog_cntnts_series.values))).T\n",
    "        rslt.columns = blog_cntnts_cols\n",
    "        \n",
    "        if len(count_word_list)!=0:\n",
    "            for count_word in count_word_list:\n",
    "                rslt[count_word] = rslt['content'].map(lambda x: x.count(count_word))\n",
    "        \n",
    "        rslt.to_csv(f\"{path.split('.csv')[0]}\" + \"_rdbl.csv\", encoding='utf-8-sig')\n",
    "        \n",
    "end = time.time() - start\n",
    "\n",
    "print(f'elapsed = {end}')    "
   ]
  },
  {
   "cell_type": "markdown",
   "metadata": {},
   "source": [
    "# 1-2. 스코어 추가"
   ]
  },
  {
   "cell_type": "code",
   "execution_count": 9,
   "metadata": {},
   "outputs": [],
   "source": [
    "dir_blog = '../crawling/data/blog'"
   ]
  },
  {
   "cell_type": "code",
   "execution_count": 10,
   "metadata": {},
   "outputs": [
    {
     "name": "stdout",
     "output_type": "stream",
     "text": [
      "////////// Converting dates\n",
      "////////// Extracting hashtags\n",
      "////////// Data seperation; hospital and personal\n",
      "Original: (212, 8)\n",
      "Blog written by hospital: (173, 8)\n",
      "Blog written by personal: (39, 8)\n"
     ]
    }
   ],
   "source": [
    "df = load_files_df(dir_blog, keyword_list, start_date)\n",
    "df_hsptl, df_prsnl = cleanse_df(df, [.1, .1], start_date, 202109)"
   ]
  },
  {
   "cell_type": "code",
   "execution_count": 11,
   "metadata": {},
   "outputs": [
    {
     "name": "stdout",
     "output_type": "stream",
     "text": [
      "CPU times: user 40.8 s, sys: 825 ms, total: 41.7 s\n",
      "Wall time: 24.9 s\n"
     ]
    }
   ],
   "source": [
    "%%time\n",
    "\n",
    "X_ma = make_morph_series(df_hsptl['content'], is_save=False)\n",
    "input_df = make_input_df(df_hsptl, X_ma)"
   ]
  },
  {
   "cell_type": "code",
   "execution_count": 12,
   "metadata": {},
   "outputs": [],
   "source": [
    "model_path = '../../../nylon-detector-backup/modeling/siu_clf_ver2.sav'\n",
    "scored_df = get_scored_df(df_hsptl, input_df, model_path)"
   ]
  },
  {
   "cell_type": "code",
   "execution_count": 18,
   "metadata": {},
   "outputs": [],
   "source": [
    "scored_dir = 'data/scored_results'\n",
    "\n",
    "if not os.path.exists(scored_dir):\n",
    "    os.makedirs(scored_dir)\n",
    "\n",
    "to_save = f'{scored_dir}/scored_result_{str(datetime.today())[:10]}.csv'\n",
    "scored_df.to_csv(to_save, encoding='utf-8-sig')"
   ]
  },
  {
   "cell_type": "markdown",
   "metadata": {},
   "source": [
    "- 이후 `crawling/data/scored_results/scored_result_실행일자.csv` 다운로드"
   ]
  },
  {
   "cell_type": "markdown",
   "metadata": {},
   "source": [
    "---"
   ]
  },
  {
   "cell_type": "markdown",
   "metadata": {},
   "source": [
    "# 2. 카페"
   ]
  },
  {
   "cell_type": "markdown",
   "metadata": {},
   "source": [
    "## 파라미터 설정(수정가능구역)"
   ]
  },
  {
   "cell_type": "code",
   "execution_count": 3,
   "metadata": {},
   "outputs": [],
   "source": [
    "keywords = ['실비보험']\n",
    "page_max = 15 #가급적 크게\n",
    "\n",
    "how_many_months = 10"
   ]
  },
  {
   "cell_type": "code",
   "execution_count": 4,
   "metadata": {},
   "outputs": [],
   "source": [
    "date_lst = [(datetime.strptime(str(start_date), '%Y%m%d')\n",
    "             - relativedelta(months=i)).strftime('%Y%m%d') for i in range(how_many_months + 1)]\n",
    "\n",
    "period_from = date_lst[-1]\n",
    "period_to = date_lst[0]"
   ]
  },
  {
   "cell_type": "markdown",
   "metadata": {},
   "source": [
    "## 2-1. 각 카페 내의 특정 키워드 검색목록"
   ]
  },
  {
   "cell_type": "code",
   "execution_count": 5,
   "metadata": {},
   "outputs": [],
   "source": [
    "# print(keyword, period_from, period_to, page_max)"
   ]
  },
  {
   "cell_type": "code",
   "execution_count": 6,
   "metadata": {},
   "outputs": [],
   "source": [
    "# !python3 cafe_get_each_info.py run $keyword $period_from $period_to $page_max"
   ]
  },
  {
   "cell_type": "markdown",
   "metadata": {},
   "source": [
    "### - `pandas` 버전문제 존재(20220428)"
   ]
  },
  {
   "cell_type": "markdown",
   "metadata": {},
   "source": [
    "## 2-2. 카페 전체 검색목록"
   ]
  },
  {
   "cell_type": "code",
   "execution_count": 7,
   "metadata": {},
   "outputs": [],
   "source": [
    "optional_words = ['백내장','실비','동물']\n",
    "                # include, includeAll, exclude 순서의 string list\n",
    "    \n",
    "for keyword in keywords:\n",
    "    result = get_srch_cafe_df(keyword, \n",
    "                              period_from, \n",
    "                              period_to, \n",
    "                              page_max, \n",
    "                              optional_words)\n",
    "    \n",
    "    save_to = f'data/cafe_search/cafe_srch_contents_{keyword}_from{period_from}_to{period_to}.csv'\n",
    "    result.to_csv(save_to, encoding='utf-8-sig')"
   ]
  },
  {
   "cell_type": "markdown",
   "metadata": {},
   "source": [
    "- 이후 `crawling/data/cafe_search/cafe_srch_contents_검색키워드_~~~.csv` 다운로드"
   ]
  },
  {
   "cell_type": "markdown",
   "metadata": {},
   "source": [
    "### - `pandas` 버전문제로 인한 comments 미기재(20220501)"
   ]
  }
 ],
 "metadata": {
  "instance_type": "ml.t3.medium",
  "kernelspec": {
   "display_name": "python3 (sagemaker-bda/2)",
   "language": "python",
   "name": "python3__SAGEMAKER_INTERNAL__arn:aws:sagemaker:ap-northeast-2:596564582792:image-version/sagemaker-bda/2"
  },
  "language_info": {
   "codemirror_mode": {
    "name": "ipython",
    "version": 3
   },
   "file_extension": ".py",
   "mimetype": "text/x-python",
   "name": "python",
   "nbconvert_exporter": "python",
   "pygments_lexer": "ipython3",
   "version": "3.6.9"
  }
 },
 "nbformat": 4,
 "nbformat_minor": 4
}