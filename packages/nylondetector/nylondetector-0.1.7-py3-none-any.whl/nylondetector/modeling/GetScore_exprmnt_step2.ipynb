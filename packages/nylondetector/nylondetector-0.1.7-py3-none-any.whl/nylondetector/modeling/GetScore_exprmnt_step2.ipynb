{
 "cells": [
  {
   "cell_type": "code",
   "execution_count": 2,
   "metadata": {},
   "outputs": [],
   "source": [
    "import os\n",
    "import sys\n",
    "import itertools\n",
    "\n",
    "sys.path.append('../util')\n",
    "sys.path.append('../preprocess')\n",
    "\n",
    "import re\n",
    "import joblib\n",
    "import pickle\n",
    "import numpy as np\n",
    "import pandas as pd\n",
    "import xgboost as xgb\n",
    "from konlpy.tag import Komoran\n",
    "from datetime import datetime as dt\n",
    "from sklearn.pipeline import Pipeline\n",
    "from datetime import timedelta as tmdt\n",
    "from sklearn.pipeline import FeatureUnion\n",
    "from gensim.sklearn_api import D2VTransformer\n",
    "from sklearn.model_selection import GridSearchCV\n",
    "from sklearn.model_selection import train_test_split\n",
    "from sklearn.metrics.pairwise import cosine_similarity\n",
    "\n",
    "from text_handling import flatten\n",
    "from text_handling import do_text_ma\n",
    "from text_handling import make_ngram\n",
    "from get_clf_eval import get_clf_eval\n",
    "from text_handling import text_preproc\n",
    "from text_handling import add_ngrams_to_ma\n",
    "from siu_data_preproc import trim_by_length\n",
    "from siu_data_preproc import transform_date\n",
    "from siu_data_preproc import extract_hashtags\n",
    "from siu_data_preproc import hsptl_prsnl_split\n",
    "from siu_data_preproc import extract_hsptl_name\n",
    "from d2v_input_transformer_2 import D2VInputTransformer"
   ]
  },
  {
   "cell_type": "markdown",
   "metadata": {},
   "source": [
    "# `['실비', '실손', '혜택', '할인']`만으로 `keyword_table` 만들어보기"
   ]
  },
  {
   "cell_type": "markdown",
   "metadata": {},
   "source": [
    "---"
   ]
  },
  {
   "cell_type": "markdown",
   "metadata": {},
   "source": [
    "## 2-0. 로드"
   ]
  },
  {
   "cell_type": "code",
   "execution_count": 3,
   "metadata": {},
   "outputs": [],
   "source": [
    "dir_blog = '../crawling/data/blog'\n",
    "\n",
    "dir_temp = [os.listdir(f'{dir_blog}/{x}/contents') for x in os.listdir(dir_blog) if '백내장' in x]\n",
    "dir_temp = [x for x in list(itertools.chain.from_iterable(dir_temp)) if 'rdbl' in x]\n",
    "\n",
    "dir_files = [f\"{dir_blog}/{fn.split('_')[2]}/contents/{fn}\" for fn in dir_temp]"
   ]
  },
  {
   "cell_type": "code",
   "execution_count": 4,
   "metadata": {},
   "outputs": [
    {
     "name": "stdout",
     "output_type": "stream",
     "text": [
      "(21896, 6)\n"
     ]
    },
    {
     "data": {
      "text/html": [
       "<div>\n",
       "<style scoped>\n",
       "    .dataframe tbody tr th:only-of-type {\n",
       "        vertical-align: middle;\n",
       "    }\n",
       "\n",
       "    .dataframe tbody tr th {\n",
       "        vertical-align: top;\n",
       "    }\n",
       "\n",
       "    .dataframe thead th {\n",
       "        text-align: right;\n",
       "    }\n",
       "</style>\n",
       "<table border=\"1\" class=\"dataframe\">\n",
       "  <thead>\n",
       "    <tr style=\"text-align: right;\">\n",
       "      <th></th>\n",
       "      <th>date</th>\n",
       "      <th>name</th>\n",
       "      <th>title</th>\n",
       "      <th>url</th>\n",
       "      <th>keyword</th>\n",
       "      <th>content</th>\n",
       "    </tr>\n",
       "  </thead>\n",
       "  <tbody>\n",
       "    <tr>\n",
       "      <th>0</th>\n",
       "      <td>2021.05.24.</td>\n",
       "      <td>암보험비교사이트순위</td>\n",
       "      <td>7대질병수술비 특약 잘 보장받는 방법</td>\n",
       "      <td>https://blog.naver.com/PostView.naver?blogId=k...</td>\n",
       "      <td>백내장+실손</td>\n",
       "      <td>안녕하세요오늘은 여러 질병수술비특약중에서&amp;quot;7대질병수술비 특약&amp;quot; 에...</td>\n",
       "    </tr>\n",
       "    <tr>\n",
       "      <th>1</th>\n",
       "      <td>2021.05.21.</td>\n",
       "      <td>슬기로운 보험이야기</td>\n",
       "      <td>1세대 구실손</td>\n",
       "      <td>https://blog.naver.com/PostView.naver?blogId=l...</td>\n",
       "      <td>백내장+실손</td>\n",
       "      <td>NaN</td>\n",
       "    </tr>\n",
       "    <tr>\n",
       "      <th>2</th>\n",
       "      <td>2021.05.18.</td>\n",
       "      <td>미소의 히든카드</td>\n",
       "      <td>실손의료비 백내장 다초첨렌즈 삽입술 보험금 보상 유무 꼭...</td>\n",
       "      <td>https://blog.naver.com/PostView.naver?blogId=h...</td>\n",
       "      <td>백내장+실손</td>\n",
       "      <td>백내장 수술을 할때다초첨렌즈 삽입?단초첨렌즈 삽입?실손의료비 미리 확인하세요!!백내...</td>\n",
       "    </tr>\n",
       "    <tr>\n",
       "      <th>3</th>\n",
       "      <td>2021.06.08.</td>\n",
       "      <td>☞ 다이즐한의원 ☜</td>\n",
       "      <td>백내장수술비용보험 실손 적용으로</td>\n",
       "      <td>https://blog.naver.com/PostView.naver?blogId=y...</td>\n",
       "      <td>백내장+실손</td>\n",
       "      <td>백내장수술비용보험 실손 적용으로 노안교정술은 크게 백내장 여부에따라서 그 방법이 달...</td>\n",
       "    </tr>\n",
       "    <tr>\n",
       "      <th>4</th>\n",
       "      <td>2021.06.01.</td>\n",
       "      <td>포켓보험</td>\n",
       "      <td>착한실손 전환 하셔야합니다 수십만원감당안되세요</td>\n",
       "      <td>https://blog.naver.com/PostView.naver?blogId=h...</td>\n",
       "      <td>백내장+실손</td>\n",
       "      <td>착한실손 전환 하셔야합니다 수십만원 감당안되세요안녕하세요 늘 사실만 전달해드리는돌직...</td>\n",
       "    </tr>\n",
       "  </tbody>\n",
       "</table>\n",
       "</div>"
      ],
      "text/plain": [
       "          date        name                                title  \\\n",
       "0  2021.05.24.  암보험비교사이트순위                 7대질병수술비 특약 잘 보장받는 방법   \n",
       "1  2021.05.21.  슬기로운 보험이야기                              1세대 구실손   \n",
       "2  2021.05.18.    미소의 히든카드  실손의료비 백내장 다초첨렌즈 삽입술 보험금 보상 유무 꼭...    \n",
       "3  2021.06.08.  ☞ 다이즐한의원 ☜                    백내장수술비용보험 실손 적용으로   \n",
       "4  2021.06.01.        포켓보험            착한실손 전환 하셔야합니다 수십만원감당안되세요   \n",
       "\n",
       "                                                 url keyword  \\\n",
       "0  https://blog.naver.com/PostView.naver?blogId=k...  백내장+실손   \n",
       "1  https://blog.naver.com/PostView.naver?blogId=l...  백내장+실손   \n",
       "2  https://blog.naver.com/PostView.naver?blogId=h...  백내장+실손   \n",
       "3  https://blog.naver.com/PostView.naver?blogId=y...  백내장+실손   \n",
       "4  https://blog.naver.com/PostView.naver?blogId=h...  백내장+실손   \n",
       "\n",
       "                                             content  \n",
       "0  안녕하세요오늘은 여러 질병수술비특약중에서&quot;7대질병수술비 특약&quot; 에...  \n",
       "1                                                NaN  \n",
       "2  백내장 수술을 할때다초첨렌즈 삽입?단초첨렌즈 삽입?실손의료비 미리 확인하세요!!백내...  \n",
       "3  백내장수술비용보험 실손 적용으로 노안교정술은 크게 백내장 여부에따라서 그 방법이 달...  \n",
       "4  착한실손 전환 하셔야합니다 수십만원 감당안되세요안녕하세요 늘 사실만 전달해드리는돌직...  "
      ]
     },
     "execution_count": 4,
     "metadata": {},
     "output_type": "execute_result"
    }
   ],
   "source": [
    "for i, fn in enumerate(dir_files):\n",
    "    if i==0:\n",
    "        df = pd.read_csv(fn, index_col=0)\n",
    "    else:\n",
    "        df_tmp = pd.read_csv(fn, index_col=0)\n",
    "        df = pd.concat([df, df_tmp], axis=0)\n",
    "        \n",
    "df = df.reset_index(drop=True)\n",
    "print(df.shape)\n",
    "df.head(5)"
   ]
  },
  {
   "cell_type": "markdown",
   "metadata": {},
   "source": [
    "## 2-1. 전처리"
   ]
  },
  {
   "cell_type": "markdown",
   "metadata": {},
   "source": [
    "### - Filter animal related contents"
   ]
  },
  {
   "cell_type": "code",
   "execution_count": 5,
   "metadata": {},
   "outputs": [
    {
     "name": "stdout",
     "output_type": "stream",
     "text": [
      "(18459, 6)\n"
     ]
    }
   ],
   "source": [
    "df = df.loc[~df['content'].isna()]\n",
    "df = df.loc[df['content'].map(lambda x: '동물병원' not in x)]\n",
    "print(df.shape)"
   ]
  },
  {
   "cell_type": "markdown",
   "metadata": {},
   "source": [
    "### - Cleansing"
   ]
  },
  {
   "cell_type": "code",
   "execution_count": 6,
   "metadata": {},
   "outputs": [],
   "source": [
    "df_preproc = text_preproc(df, ['name', 'title', 'content'], kor_only=True)"
   ]
  },
  {
   "cell_type": "markdown",
   "metadata": {},
   "source": [
    "### - Trimming from each side w.r.t. length of content"
   ]
  },
  {
   "cell_type": "code",
   "execution_count": 7,
   "metadata": {},
   "outputs": [
    {
     "data": {
      "text/plain": [
       "(16424, 6)"
      ]
     },
     "execution_count": 7,
     "metadata": {},
     "output_type": "execute_result"
    }
   ],
   "source": [
    "df_preproc = trim_by_length(df_preproc, trim_low=.01, trim_upp=.1)\n",
    "df_preproc.shape"
   ]
  },
  {
   "cell_type": "markdown",
   "metadata": {},
   "source": [
    "### - Change date"
   ]
  },
  {
   "cell_type": "code",
   "execution_count": 8,
   "metadata": {},
   "outputs": [
    {
     "name": "stdout",
     "output_type": "stream",
     "text": [
      "////////// Converting dates\n"
     ]
    }
   ],
   "source": [
    "crawl_dt = '2022.04.08.'\n",
    "df_preproc['date'] = transform_date(df_preproc['date'], crawl_dt)"
   ]
  },
  {
   "cell_type": "markdown",
   "metadata": {},
   "source": [
    "### - Extract hashtags"
   ]
  },
  {
   "cell_type": "code",
   "execution_count": 9,
   "metadata": {},
   "outputs": [
    {
     "name": "stdout",
     "output_type": "stream",
     "text": [
      "////////// Extracting hashtags\n"
     ]
    }
   ],
   "source": [
    "hospital_re_target = '.*(안과|병원|의원)$'\n",
    "df_preproc['#s'] = extract_hashtags(df_preproc['content'], hospital_re_target)"
   ]
  },
  {
   "cell_type": "markdown",
   "metadata": {},
   "source": [
    "### - Split hospital and personal blogs"
   ]
  },
  {
   "cell_type": "code",
   "execution_count": 10,
   "metadata": {},
   "outputs": [
    {
     "name": "stdout",
     "output_type": "stream",
     "text": [
      "////////// Data seperation; hospital and personal\n",
      "Original: (16424, 7)\n",
      "Blog written by hospital: (959, 7)\n",
      "Blog written by personal: (15444, 7)\n"
     ]
    }
   ],
   "source": [
    "hsptl_words = ['병원', '의원', '외과']\n",
    "excpt_words = ['동물']\n",
    "df_hsptl, df_prsnl = hsptl_prsnl_split(df_preproc, hsptl_words, excpt_words)"
   ]
  },
  {
   "cell_type": "markdown",
   "metadata": {},
   "source": [
    "### - Filter date (after `2021.09`)"
   ]
  },
  {
   "cell_type": "code",
   "execution_count": 11,
   "metadata": {},
   "outputs": [
    {
     "data": {
      "text/plain": [
       "(473, 7)"
      ]
     },
     "execution_count": 11,
     "metadata": {},
     "output_type": "execute_result"
    }
   ],
   "source": [
    "df_hsptl = df_hsptl.loc[df_hsptl['date'].map(lambda x: x[:7]>'2021.09')]\n",
    "df_hsptl.shape"
   ]
  },
  {
   "cell_type": "markdown",
   "metadata": {},
   "source": [
    "### - Do morph analysis"
   ]
  },
  {
   "cell_type": "code",
   "execution_count": 12,
   "metadata": {},
   "outputs": [
    {
     "name": "stdout",
     "output_type": "stream",
     "text": [
      "CPU times: user 1min 13s, sys: 1.42 s, total: 1min 14s\n",
      "Wall time: 47.2 s\n"
     ]
    }
   ],
   "source": [
    "%%time\n",
    "\n",
    "X = df_hsptl['content']\n",
    "\n",
    "tagger = Komoran()\n",
    "pos_list = ('NNG', 'NNP', 'NP', 'VV', 'VA')\n",
    "stopwords = []\n",
    "\n",
    "X_ma = do_text_ma(X, tagger, pos_list, stopwords, is_morph='y')"
   ]
  },
  {
   "cell_type": "markdown",
   "metadata": {},
   "source": [
    "Save"
   ]
  },
  {
   "cell_type": "code",
   "execution_count": 13,
   "metadata": {},
   "outputs": [],
   "source": [
    "with open('X_ma_hsptl.pkl', 'wb') as f:\n",
    "    pickle.dump(X_ma, f)"
   ]
  },
  {
   "cell_type": "markdown",
   "metadata": {},
   "source": [
    "Load"
   ]
  },
  {
   "cell_type": "code",
   "execution_count": 14,
   "metadata": {},
   "outputs": [],
   "source": [
    "# with open('X_ma_hsptl.pkl', 'rb') as f:\n",
    "#     X_ma = pickle.load(f)"
   ]
  },
  {
   "cell_type": "markdown",
   "metadata": {},
   "source": [
    "### - Load best hyperparameters for d2v"
   ]
  },
  {
   "cell_type": "code",
   "execution_count": 15,
   "metadata": {},
   "outputs": [],
   "source": [
    "with open('best_params_d2v.pkl', 'rb') as f:\n",
    "    best_params_d2v = pickle.load(f)"
   ]
  },
  {
   "cell_type": "markdown",
   "metadata": {},
   "source": [
    "### - Make embedding vectors with best parameters"
   ]
  },
  {
   "cell_type": "code",
   "execution_count": 16,
   "metadata": {},
   "outputs": [
    {
     "data": {
      "text/plain": [
       "Pipeline(steps=[('preproc',\n",
       "                 D2VInputTransformer(how_ngram='1_2_3',\n",
       "                                     ngram_names=['content_1gram_1',\n",
       "                                                  'content_2gram',\n",
       "                                                  'content_3gram'],\n",
       "                                     ngram_ns=[1, 2, 3])),\n",
       "                ('embed', D2VTransformer(window=7))])"
      ]
     },
     "execution_count": 16,
     "metadata": {},
     "output_type": "execute_result"
    }
   ],
   "source": [
    "ngram_names = ['content_1gram_1', 'content_2gram', 'content_3gram']\n",
    "ngram_ns = [1,2,3]\n",
    "how_ngram = '1_2_3'\n",
    "\n",
    "pipeline_d2v_final = Pipeline([\n",
    "                                ('preproc', D2VInputTransformer(ngram_names, ngram_ns, how_ngram)),\n",
    "                                ('embed', D2VTransformer())\n",
    "                            ])\n",
    "\n",
    "pipeline_d2v_final.set_params(**best_params_d2v)"
   ]
  },
  {
   "cell_type": "code",
   "execution_count": 17,
   "metadata": {},
   "outputs": [
    {
     "name": "stdout",
     "output_type": "stream",
     "text": [
      "CPU times: user 16.3 s, sys: 79.9 ms, total: 16.4 s\n",
      "Wall time: 11 s\n"
     ]
    }
   ],
   "source": [
    "%%time\n",
    "\n",
    "doc_embedded_vector = pipeline_d2v_final.fit_transform(X_ma)\n",
    "\n",
    "with open('doc_embedded_vector_hsptl.pkl', 'wb') as f:\n",
    "    pickle.dump(doc_embedded_vector, f)"
   ]
  },
  {
   "cell_type": "markdown",
   "metadata": {},
   "source": [
    "Load"
   ]
  },
  {
   "cell_type": "code",
   "execution_count": 3,
   "metadata": {},
   "outputs": [],
   "source": [
    "with open('doc_embedded_vector_hsptl.pkl', 'rb') as f:\n",
    "    doc_embedded_vector = pickle.load(f)"
   ]
  },
  {
   "cell_type": "code",
   "execution_count": 5,
   "metadata": {},
   "outputs": [
    {
     "data": {
      "text/plain": [
       "numpy.ndarray"
      ]
     },
     "execution_count": 5,
     "metadata": {},
     "output_type": "execute_result"
    }
   ],
   "source": [
    "type(doc_embedded_vector)"
   ]
  },
  {
   "cell_type": "markdown",
   "metadata": {},
   "source": [
    "### - Make embedding dataframe"
   ]
  },
  {
   "cell_type": "code",
   "execution_count": 19,
   "metadata": {},
   "outputs": [
    {
     "data": {
      "text/html": [
       "<div>\n",
       "<style scoped>\n",
       "    .dataframe tbody tr th:only-of-type {\n",
       "        vertical-align: middle;\n",
       "    }\n",
       "\n",
       "    .dataframe tbody tr th {\n",
       "        vertical-align: top;\n",
       "    }\n",
       "\n",
       "    .dataframe thead th {\n",
       "        text-align: right;\n",
       "    }\n",
       "</style>\n",
       "<table border=\"1\" class=\"dataframe\">\n",
       "  <thead>\n",
       "    <tr style=\"text-align: right;\">\n",
       "      <th></th>\n",
       "      <th>embed_0</th>\n",
       "      <th>embed_1</th>\n",
       "      <th>embed_2</th>\n",
       "      <th>embed_3</th>\n",
       "      <th>embed_4</th>\n",
       "      <th>embed_5</th>\n",
       "      <th>embed_6</th>\n",
       "      <th>embed_7</th>\n",
       "      <th>embed_8</th>\n",
       "      <th>embed_9</th>\n",
       "      <th>...</th>\n",
       "      <th>embed_90</th>\n",
       "      <th>embed_91</th>\n",
       "      <th>embed_92</th>\n",
       "      <th>embed_93</th>\n",
       "      <th>embed_94</th>\n",
       "      <th>embed_95</th>\n",
       "      <th>embed_96</th>\n",
       "      <th>embed_97</th>\n",
       "      <th>embed_98</th>\n",
       "      <th>embed_99</th>\n",
       "    </tr>\n",
       "  </thead>\n",
       "  <tbody>\n",
       "    <tr>\n",
       "      <th>0</th>\n",
       "      <td>0.542827</td>\n",
       "      <td>0.745900</td>\n",
       "      <td>0.023451</td>\n",
       "      <td>-0.439574</td>\n",
       "      <td>0.001806</td>\n",
       "      <td>0.506976</td>\n",
       "      <td>-0.309400</td>\n",
       "      <td>0.067186</td>\n",
       "      <td>-0.812760</td>\n",
       "      <td>0.231299</td>\n",
       "      <td>...</td>\n",
       "      <td>0.016092</td>\n",
       "      <td>-0.181778</td>\n",
       "      <td>-0.187428</td>\n",
       "      <td>0.119794</td>\n",
       "      <td>0.138912</td>\n",
       "      <td>-0.128130</td>\n",
       "      <td>0.095936</td>\n",
       "      <td>-0.121850</td>\n",
       "      <td>-0.214867</td>\n",
       "      <td>-0.138404</td>\n",
       "    </tr>\n",
       "    <tr>\n",
       "      <th>1</th>\n",
       "      <td>0.522133</td>\n",
       "      <td>0.697747</td>\n",
       "      <td>0.077942</td>\n",
       "      <td>-0.530826</td>\n",
       "      <td>0.066918</td>\n",
       "      <td>0.565048</td>\n",
       "      <td>-0.394347</td>\n",
       "      <td>0.085496</td>\n",
       "      <td>-0.878902</td>\n",
       "      <td>0.177700</td>\n",
       "      <td>...</td>\n",
       "      <td>0.017506</td>\n",
       "      <td>-0.276165</td>\n",
       "      <td>-0.155978</td>\n",
       "      <td>0.011234</td>\n",
       "      <td>0.143844</td>\n",
       "      <td>-0.112206</td>\n",
       "      <td>0.103830</td>\n",
       "      <td>-0.085031</td>\n",
       "      <td>-0.194712</td>\n",
       "      <td>-0.130108</td>\n",
       "    </tr>\n",
       "    <tr>\n",
       "      <th>2</th>\n",
       "      <td>0.189686</td>\n",
       "      <td>0.281768</td>\n",
       "      <td>-0.017316</td>\n",
       "      <td>-0.158676</td>\n",
       "      <td>-0.003215</td>\n",
       "      <td>0.199162</td>\n",
       "      <td>-0.103575</td>\n",
       "      <td>0.024215</td>\n",
       "      <td>-0.329302</td>\n",
       "      <td>0.122282</td>\n",
       "      <td>...</td>\n",
       "      <td>0.004071</td>\n",
       "      <td>-0.028240</td>\n",
       "      <td>-0.076116</td>\n",
       "      <td>0.073327</td>\n",
       "      <td>0.021756</td>\n",
       "      <td>-0.088236</td>\n",
       "      <td>0.035120</td>\n",
       "      <td>-0.075602</td>\n",
       "      <td>-0.090430</td>\n",
       "      <td>-0.051016</td>\n",
       "    </tr>\n",
       "    <tr>\n",
       "      <th>3</th>\n",
       "      <td>0.583685</td>\n",
       "      <td>0.809276</td>\n",
       "      <td>0.057902</td>\n",
       "      <td>-0.428562</td>\n",
       "      <td>-0.013372</td>\n",
       "      <td>0.540863</td>\n",
       "      <td>-0.299570</td>\n",
       "      <td>0.080982</td>\n",
       "      <td>-0.920348</td>\n",
       "      <td>0.332831</td>\n",
       "      <td>...</td>\n",
       "      <td>-0.040860</td>\n",
       "      <td>-0.049984</td>\n",
       "      <td>-0.181830</td>\n",
       "      <td>0.144617</td>\n",
       "      <td>0.092042</td>\n",
       "      <td>-0.142521</td>\n",
       "      <td>0.110799</td>\n",
       "      <td>-0.156674</td>\n",
       "      <td>-0.287912</td>\n",
       "      <td>-0.111643</td>\n",
       "    </tr>\n",
       "    <tr>\n",
       "      <th>4</th>\n",
       "      <td>0.771603</td>\n",
       "      <td>1.016767</td>\n",
       "      <td>0.243678</td>\n",
       "      <td>-0.726883</td>\n",
       "      <td>0.040944</td>\n",
       "      <td>0.736400</td>\n",
       "      <td>-0.595166</td>\n",
       "      <td>0.020481</td>\n",
       "      <td>-1.098224</td>\n",
       "      <td>0.228925</td>\n",
       "      <td>...</td>\n",
       "      <td>-0.049021</td>\n",
       "      <td>-0.213020</td>\n",
       "      <td>-0.005179</td>\n",
       "      <td>-0.034149</td>\n",
       "      <td>0.387980</td>\n",
       "      <td>-0.089223</td>\n",
       "      <td>0.149383</td>\n",
       "      <td>-0.004477</td>\n",
       "      <td>-0.248960</td>\n",
       "      <td>-0.124745</td>\n",
       "    </tr>\n",
       "  </tbody>\n",
       "</table>\n",
       "<p>5 rows × 100 columns</p>\n",
       "</div>"
      ],
      "text/plain": [
       "    embed_0   embed_1   embed_2   embed_3   embed_4   embed_5   embed_6  \\\n",
       "0  0.542827  0.745900  0.023451 -0.439574  0.001806  0.506976 -0.309400   \n",
       "1  0.522133  0.697747  0.077942 -0.530826  0.066918  0.565048 -0.394347   \n",
       "2  0.189686  0.281768 -0.017316 -0.158676 -0.003215  0.199162 -0.103575   \n",
       "3  0.583685  0.809276  0.057902 -0.428562 -0.013372  0.540863 -0.299570   \n",
       "4  0.771603  1.016767  0.243678 -0.726883  0.040944  0.736400 -0.595166   \n",
       "\n",
       "    embed_7   embed_8   embed_9  ...  embed_90  embed_91  embed_92  embed_93  \\\n",
       "0  0.067186 -0.812760  0.231299  ...  0.016092 -0.181778 -0.187428  0.119794   \n",
       "1  0.085496 -0.878902  0.177700  ...  0.017506 -0.276165 -0.155978  0.011234   \n",
       "2  0.024215 -0.329302  0.122282  ...  0.004071 -0.028240 -0.076116  0.073327   \n",
       "3  0.080982 -0.920348  0.332831  ... -0.040860 -0.049984 -0.181830  0.144617   \n",
       "4  0.020481 -1.098224  0.228925  ... -0.049021 -0.213020 -0.005179 -0.034149   \n",
       "\n",
       "   embed_94  embed_95  embed_96  embed_97  embed_98  embed_99  \n",
       "0  0.138912 -0.128130  0.095936 -0.121850 -0.214867 -0.138404  \n",
       "1  0.143844 -0.112206  0.103830 -0.085031 -0.194712 -0.130108  \n",
       "2  0.021756 -0.088236  0.035120 -0.075602 -0.090430 -0.051016  \n",
       "3  0.092042 -0.142521  0.110799 -0.156674 -0.287912 -0.111643  \n",
       "4  0.387980 -0.089223  0.149383 -0.004477 -0.248960 -0.124745  \n",
       "\n",
       "[5 rows x 100 columns]"
      ]
     },
     "execution_count": 19,
     "metadata": {},
     "output_type": "execute_result"
    }
   ],
   "source": [
    "doc_embedded_df = pd.DataFrame(doc_embedded_vector)\n",
    "doc_embedded_df.columns = ['embed_{}'.format(x) for x in range(doc_embedded_df.shape[1])]\n",
    "doc_embedded_df.head(5)"
   ]
  },
  {
   "cell_type": "markdown",
   "metadata": {},
   "source": [
    "Save"
   ]
  },
  {
   "cell_type": "code",
   "execution_count": 20,
   "metadata": {},
   "outputs": [],
   "source": [
    "with open('doc_embedded_df_hsptl.pkl', 'wb') as f:\n",
    "    pickle.dump(doc_embedded_df, f)"
   ]
  },
  {
   "cell_type": "markdown",
   "metadata": {},
   "source": [
    "Load"
   ]
  },
  {
   "cell_type": "code",
   "execution_count": 21,
   "metadata": {},
   "outputs": [],
   "source": [
    "# with open('doc_embedded_df_hsptl.pkl', 'rb') as f:\n",
    "#     doc_embedded_df = pickle.load(f)"
   ]
  },
  {
   "cell_type": "markdown",
   "metadata": {},
   "source": [
    "### - Make `ngram` and keyword count"
   ]
  },
  {
   "cell_type": "code",
   "execution_count": 22,
   "metadata": {},
   "outputs": [
    {
     "data": {
      "text/plain": [
       "(473, 100)"
      ]
     },
     "execution_count": 22,
     "metadata": {},
     "output_type": "execute_result"
    }
   ],
   "source": [
    "doc_embedded_df.shape"
   ]
  },
  {
   "cell_type": "code",
   "execution_count": 23,
   "metadata": {},
   "outputs": [],
   "source": [
    "X_ngram = X_ma.map(lambda x: make_ngram(x, 2))"
   ]
  },
  {
   "cell_type": "code",
   "execution_count": 24,
   "metadata": {},
   "outputs": [],
   "source": [
    "kywrd_table_rl = pd.concat([df_hsptl['content'].map(lambda x: x.count('실손')).rename('실손'),\n",
    "                            df_hsptl['content'].map(lambda x: x.count('실비')).rename('실비'),\n",
    "                            df_hsptl['content'].map(lambda x: x.count('할인')).rename('할인'),\n",
    "                            df_hsptl['content'].map(lambda x: x.count('혜택')).rename('혜택'),\n",
    "                            X_ngram.map(lambda x: x.count('실_손')).rename('실_손')], axis=1)"
   ]
  },
  {
   "cell_type": "markdown",
   "metadata": {},
   "source": [
    "### - Make input table (`X_rl`)"
   ]
  },
  {
   "cell_type": "code",
   "execution_count": 25,
   "metadata": {},
   "outputs": [
    {
     "data": {
      "text/plain": [
       "(473, 100)"
      ]
     },
     "execution_count": 25,
     "metadata": {},
     "output_type": "execute_result"
    }
   ],
   "source": [
    "doc_embd_df_rl = pd.DataFrame(doc_embedded_df)\n",
    "doc_embd_df_rl.index = df_hsptl.index\n",
    "doc_embd_df_rl.shape"
   ]
  },
  {
   "cell_type": "code",
   "execution_count": 26,
   "metadata": {},
   "outputs": [],
   "source": [
    "X_rl = pd.concat([kywrd_table_rl, doc_embd_df_rl], axis=1)"
   ]
  },
  {
   "cell_type": "markdown",
   "metadata": {},
   "source": [
    "### - Get final result dataframe after doing prediction"
   ]
  },
  {
   "cell_type": "code",
   "execution_count": 28,
   "metadata": {},
   "outputs": [],
   "source": [
    "best_model_clf = joblib.load('siu_clf_ver2.sav')"
   ]
  },
  {
   "cell_type": "code",
   "execution_count": 29,
   "metadata": {},
   "outputs": [],
   "source": [
    "rslt = best_model_clf.predict(X_rl)\n",
    "rslt_proba = [x[1] for x in best_model_clf.predict_proba(X_rl)]"
   ]
  },
  {
   "cell_type": "code",
   "execution_count": 30,
   "metadata": {},
   "outputs": [
    {
     "data": {
      "text/html": [
       "<div>\n",
       "<style scoped>\n",
       "    .dataframe tbody tr th:only-of-type {\n",
       "        vertical-align: middle;\n",
       "    }\n",
       "\n",
       "    .dataframe tbody tr th {\n",
       "        vertical-align: top;\n",
       "    }\n",
       "\n",
       "    .dataframe thead th {\n",
       "        text-align: right;\n",
       "    }\n",
       "</style>\n",
       "<table border=\"1\" class=\"dataframe\">\n",
       "  <thead>\n",
       "    <tr style=\"text-align: right;\">\n",
       "      <th></th>\n",
       "      <th>date</th>\n",
       "      <th>name</th>\n",
       "      <th>title</th>\n",
       "      <th>url</th>\n",
       "      <th>keyword</th>\n",
       "      <th>content</th>\n",
       "      <th>#s</th>\n",
       "      <th>label</th>\n",
       "      <th>score</th>\n",
       "    </tr>\n",
       "  </thead>\n",
       "  <tbody>\n",
       "    <tr>\n",
       "      <th>261</th>\n",
       "      <td>2021.10.15.</td>\n",
       "      <td>더불어민주당 동구미추홀구갑 국회의원 허종식</td>\n",
       "      <td>허종식 민간보험 공공데이터 요구건보심평원도</td>\n",
       "      <td>https://blog.naver.com/PostView.naver?blogId=j...</td>\n",
       "      <td>백내장+실손</td>\n",
       "      <td>허종식 민간보험 공공데이터 요구건보심평원도 민간데이터 확보해야 민간보험사 데이터 요...</td>\n",
       "      <td>[]</td>\n",
       "      <td>0</td>\n",
       "      <td>0.457059</td>\n",
       "    </tr>\n",
       "    <tr>\n",
       "      <th>663</th>\n",
       "      <td>2022.02.14.</td>\n",
       "      <td>동탄퍼스트안과의원</td>\n",
       "      <td>실손실비보험 적용 제한되는 백내장 갑상선 도수치료</td>\n",
       "      <td>https://blog.naver.com/PostView.naver?blogId=j...</td>\n",
       "      <td>백내장+실손</td>\n",
       "      <td>안녕하세요#동탄안과 #동탄퍼스트안과 입니다년 분기부터 #갑상선 #백내장 #도수치료 ...</td>\n",
       "      <td>[#동탄퍼스트안과, #동탄퍼스트안과, #동탄퍼스트안과, #동탄퍼스트안과]</td>\n",
       "      <td>0</td>\n",
       "      <td>0.398708</td>\n",
       "    </tr>\n",
       "    <tr>\n",
       "      <th>709</th>\n",
       "      <td>2022.03.08.</td>\n",
       "      <td>동탄 사랑채움한의원에서 소개하는 침치료 연구들</td>\n",
       "      <td>현대해상  대신증권</td>\n",
       "      <td>https://blog.naver.com/PostView.naver?blogId=l...</td>\n",
       "      <td>백내장+실손</td>\n",
       "      <td>대신증권 년 가장 기대되는 손보주투자의견  목표주가 원으로 상향 업종 내 최선호주 ...</td>\n",
       "      <td>[]</td>\n",
       "      <td>1</td>\n",
       "      <td>0.577218</td>\n",
       "    </tr>\n",
       "    <tr>\n",
       "      <th>751</th>\n",
       "      <td>2022.02.14.</td>\n",
       "      <td>고은경희한의원의 블로그</td>\n",
       "      <td>백내장 도수치료 실비 제한한다 고은경희한의원 실손보험</td>\n",
       "      <td>https://blog.naver.com/PostView.naver?blogId=g...</td>\n",
       "      <td>백내장+실손</td>\n",
       "      <td>#고은경희한의원 #구디역 #구로디지털단지역 #구디역한의원 #구로동한의원 #이마트구로...</td>\n",
       "      <td>[#고은경희한의원, #구디역한의원, #구로동한의원]</td>\n",
       "      <td>0</td>\n",
       "      <td>0.327471</td>\n",
       "    </tr>\n",
       "    <tr>\n",
       "      <th>755</th>\n",
       "      <td>2022.02.22.</td>\n",
       "      <td>서울삼성안과의원 공식 블로그</td>\n",
       "      <td>백내장수술 비용  실비실손보험 고민되신다면 상담받아보세요</td>\n",
       "      <td>https://blog.naver.com/PostView.naver?blogId=s...</td>\n",
       "      <td>백내장+실손</td>\n",
       "      <td>백내장수술 고민되신다면서울삼성안과의원에서 상담받아보세요안녕하세요 성남 수진동에 위치...</td>\n",
       "      <td>[]</td>\n",
       "      <td>1</td>\n",
       "      <td>0.875331</td>\n",
       "    </tr>\n",
       "    <tr>\n",
       "      <th>...</th>\n",
       "      <td>...</td>\n",
       "      <td>...</td>\n",
       "      <td>...</td>\n",
       "      <td>...</td>\n",
       "      <td>...</td>\n",
       "      <td>...</td>\n",
       "      <td>...</td>\n",
       "      <td>...</td>\n",
       "      <td>...</td>\n",
       "    </tr>\n",
       "    <tr>\n",
       "      <th>16333</th>\n",
       "      <td>2021.11.04.</td>\n",
       "      <td>님의블로그</td>\n",
       "      <td>통증치료 잘하는 곳 홍제동정형외과</td>\n",
       "      <td>https://blog.naver.com/PostView.naver?blogId=h...</td>\n",
       "      <td>백내장+소개</td>\n",
       "      <td>안녕하세요현대인들에게 허리통증은 뗄 수 없는 질환이죠 하루 종일 앉아 컴퓨터로 업무...</td>\n",
       "      <td>[]</td>\n",
       "      <td>0</td>\n",
       "      <td>0.336690</td>\n",
       "    </tr>\n",
       "    <tr>\n",
       "      <th>16342</th>\n",
       "      <td>2021.10.26.</td>\n",
       "      <td>님의 블로그</td>\n",
       "      <td>하남백내장 치료 병원 알아보고 있다면</td>\n",
       "      <td>https://blog.naver.com/PostView.naver?blogId=w...</td>\n",
       "      <td>백내장+소개</td>\n",
       "      <td>하남백내장 치료 병원 알아보고 있다면나이가 들면서 백내장 때문에 수술을 고려하시는 ...</td>\n",
       "      <td>[]</td>\n",
       "      <td>0</td>\n",
       "      <td>0.473991</td>\n",
       "    </tr>\n",
       "    <tr>\n",
       "      <th>16373</th>\n",
       "      <td>2021.11.04.</td>\n",
       "      <td>님의블로그</td>\n",
       "      <td>홍제역정형외과 이곳을 소개합니다</td>\n",
       "      <td>https://blog.naver.com/PostView.naver?blogId=k...</td>\n",
       "      <td>백내장+소개</td>\n",
       "      <td>안녕하세요 오늘은 유용하고 좋은 정보를 나누고싶은 파워블로거를 꿈꾸는미스왕 인사드립...</td>\n",
       "      <td>[]</td>\n",
       "      <td>0</td>\n",
       "      <td>0.420807</td>\n",
       "    </tr>\n",
       "    <tr>\n",
       "      <th>16392</th>\n",
       "      <td>2021.11.05.</td>\n",
       "      <td></td>\n",
       "      <td>대전백내장수술잘하는병원에서 꼼꼼한 진료받고 밝은세상</td>\n",
       "      <td>https://blog.naver.com/PostView.naver?blogId=m...</td>\n",
       "      <td>백내장+소개</td>\n",
       "      <td>대전백내장수술잘하는병원에서 꼼꼼한 진료받고 밝은세상 만나보자백내장은 대부분 나이가 ...</td>\n",
       "      <td>[]</td>\n",
       "      <td>0</td>\n",
       "      <td>0.472702</td>\n",
       "    </tr>\n",
       "    <tr>\n",
       "      <th>16402</th>\n",
       "      <td>2021.10.28.</td>\n",
       "      <td>하공주와의 하루하루</td>\n",
       "      <td>대전안과 밝은누리안과병원에서 아버지 노안백내장 치료하고</td>\n",
       "      <td>https://blog.naver.com/PostView.naver?blogId=m...</td>\n",
       "      <td>백내장+소개</td>\n",
       "      <td>안녕하세요다들 살면서 정말 부모님과 사이가 나쁘지 않는 이상효도 한 번 해야겠다고 ...</td>\n",
       "      <td>[]</td>\n",
       "      <td>0</td>\n",
       "      <td>0.465197</td>\n",
       "    </tr>\n",
       "  </tbody>\n",
       "</table>\n",
       "<p>473 rows × 9 columns</p>\n",
       "</div>"
      ],
      "text/plain": [
       "              date                       name  \\\n",
       "261    2021.10.15.    더불어민주당 동구미추홀구갑 국회의원 허종식   \n",
       "663    2022.02.14.                  동탄퍼스트안과의원   \n",
       "709    2022.03.08.  동탄 사랑채움한의원에서 소개하는 침치료 연구들   \n",
       "751    2022.02.14.               고은경희한의원의 블로그   \n",
       "755    2022.02.22.            서울삼성안과의원 공식 블로그   \n",
       "...            ...                        ...   \n",
       "16333  2021.11.04.                      님의블로그   \n",
       "16342  2021.10.26.                     님의 블로그   \n",
       "16373  2021.11.04.                      님의블로그   \n",
       "16392  2021.11.05.                              \n",
       "16402  2021.10.28.                 하공주와의 하루하루   \n",
       "\n",
       "                                 title  \\\n",
       "261            허종식 민간보험 공공데이터 요구건보심평원도   \n",
       "663        실손실비보험 적용 제한되는 백내장 갑상선 도수치료   \n",
       "709                         현대해상  대신증권   \n",
       "751      백내장 도수치료 실비 제한한다 고은경희한의원 실손보험   \n",
       "755    백내장수술 비용  실비실손보험 고민되신다면 상담받아보세요   \n",
       "...                                ...   \n",
       "16333               통증치료 잘하는 곳 홍제동정형외과   \n",
       "16342             하남백내장 치료 병원 알아보고 있다면   \n",
       "16373                홍제역정형외과 이곳을 소개합니다   \n",
       "16392     대전백내장수술잘하는병원에서 꼼꼼한 진료받고 밝은세상   \n",
       "16402   대전안과 밝은누리안과병원에서 아버지 노안백내장 치료하고   \n",
       "\n",
       "                                                     url keyword  \\\n",
       "261    https://blog.naver.com/PostView.naver?blogId=j...  백내장+실손   \n",
       "663    https://blog.naver.com/PostView.naver?blogId=j...  백내장+실손   \n",
       "709    https://blog.naver.com/PostView.naver?blogId=l...  백내장+실손   \n",
       "751    https://blog.naver.com/PostView.naver?blogId=g...  백내장+실손   \n",
       "755    https://blog.naver.com/PostView.naver?blogId=s...  백내장+실손   \n",
       "...                                                  ...     ...   \n",
       "16333  https://blog.naver.com/PostView.naver?blogId=h...  백내장+소개   \n",
       "16342  https://blog.naver.com/PostView.naver?blogId=w...  백내장+소개   \n",
       "16373  https://blog.naver.com/PostView.naver?blogId=k...  백내장+소개   \n",
       "16392  https://blog.naver.com/PostView.naver?blogId=m...  백내장+소개   \n",
       "16402  https://blog.naver.com/PostView.naver?blogId=m...  백내장+소개   \n",
       "\n",
       "                                                 content  \\\n",
       "261    허종식 민간보험 공공데이터 요구건보심평원도 민간데이터 확보해야 민간보험사 데이터 요...   \n",
       "663    안녕하세요#동탄안과 #동탄퍼스트안과 입니다년 분기부터 #갑상선 #백내장 #도수치료 ...   \n",
       "709    대신증권 년 가장 기대되는 손보주투자의견  목표주가 원으로 상향 업종 내 최선호주 ...   \n",
       "751    #고은경희한의원 #구디역 #구로디지털단지역 #구디역한의원 #구로동한의원 #이마트구로...   \n",
       "755    백내장수술 고민되신다면서울삼성안과의원에서 상담받아보세요안녕하세요 성남 수진동에 위치...   \n",
       "...                                                  ...   \n",
       "16333  안녕하세요현대인들에게 허리통증은 뗄 수 없는 질환이죠 하루 종일 앉아 컴퓨터로 업무...   \n",
       "16342  하남백내장 치료 병원 알아보고 있다면나이가 들면서 백내장 때문에 수술을 고려하시는 ...   \n",
       "16373  안녕하세요 오늘은 유용하고 좋은 정보를 나누고싶은 파워블로거를 꿈꾸는미스왕 인사드립...   \n",
       "16392  대전백내장수술잘하는병원에서 꼼꼼한 진료받고 밝은세상 만나보자백내장은 대부분 나이가 ...   \n",
       "16402  안녕하세요다들 살면서 정말 부모님과 사이가 나쁘지 않는 이상효도 한 번 해야겠다고 ...   \n",
       "\n",
       "                                             #s  label     score  \n",
       "261                                          []      0  0.457059  \n",
       "663    [#동탄퍼스트안과, #동탄퍼스트안과, #동탄퍼스트안과, #동탄퍼스트안과]      0  0.398708  \n",
       "709                                          []      1  0.577218  \n",
       "751                [#고은경희한의원, #구디역한의원, #구로동한의원]      0  0.327471  \n",
       "755                                          []      1  0.875331  \n",
       "...                                         ...    ...       ...  \n",
       "16333                                        []      0  0.336690  \n",
       "16342                                        []      0  0.473991  \n",
       "16373                                        []      0  0.420807  \n",
       "16392                                        []      0  0.472702  \n",
       "16402                                        []      0  0.465197  \n",
       "\n",
       "[473 rows x 9 columns]"
      ]
     },
     "execution_count": 30,
     "metadata": {},
     "output_type": "execute_result"
    }
   ],
   "source": [
    "df_hsptl['label'] = rslt\n",
    "df_hsptl['score'] = rslt_proba\n",
    "df_hsptl"
   ]
  },
  {
   "cell_type": "code",
   "execution_count": null,
   "metadata": {},
   "outputs": [],
   "source": []
  }
 ],
 "metadata": {
  "instance_type": "ml.t3.medium",
  "kernelspec": {
   "display_name": "python3 (sagemaker-bda/2)",
   "language": "python",
   "name": "python3__SAGEMAKER_INTERNAL__arn:aws:sagemaker:ap-northeast-2:596564582792:image-version/sagemaker-bda/2"
  },
  "language_info": {
   "codemirror_mode": {
    "name": "ipython",
    "version": 3
   },
   "file_extension": ".py",
   "mimetype": "text/x-python",
   "name": "python",
   "nbconvert_exporter": "python",
   "pygments_lexer": "ipython3",
   "version": "3.6.9"
  }
 },
 "nbformat": 4,
 "nbformat_minor": 4
}
