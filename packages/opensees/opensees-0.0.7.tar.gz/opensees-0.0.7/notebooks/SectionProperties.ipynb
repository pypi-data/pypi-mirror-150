{
 "cells": [
  {
   "cell_type": "code",
   "execution_count": 1,
   "id": "3fcdc8e5-930e-4602-9df7-1cac96b3cacb",
   "metadata": {},
   "outputs": [],
   "source": [
    "from opensees import section, patch, layer\n",
    "from opensees.render import mpl as render"
   ]
  },
  {
   "cell_type": "code",
   "execution_count": null,
   "id": "0b8ff7fc-fe80-4b5f-904d-6336bcaaeb4b",
   "metadata": {},
   "outputs": [],
   "source": []
  }
 ],
 "metadata": {
  "kernelspec": {
   "display_name": "Python (elle)",
   "language": "python",
   "name": "elle"
  },
  "language_info": {
   "codemirror_mode": {
    "name": "ipython",
    "version": 3
   },
   "file_extension": ".py",
   "mimetype": "text/x-python",
   "name": "python",
   "nbconvert_exporter": "python",
   "pygments_lexer": "ipython3",
   "version": "3.8.12"
  }
 },
 "nbformat": 4,
 "nbformat_minor": 5
}
