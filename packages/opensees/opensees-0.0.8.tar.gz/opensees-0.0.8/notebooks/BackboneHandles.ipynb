{
 "cells": [
  {
   "cell_type": "code",
   "execution_count": 1,
   "id": "408c5a8c-3842-4f5d-83a6-65a6d21c3a12",
   "metadata": {},
   "outputs": [],
   "source": [
    "from opensees.lib import backbone\n",
    "from numpy import linspace\n",
    "import matplotlib.pyplot as plt"
   ]
  },
  {
   "cell_type": "code",
   "execution_count": 8,
   "id": "69e920fa-5722-4ce8-869f-23d71df789cf",
   "metadata": {},
   "outputs": [],
   "source": [
    "fc = 4e3\n",
    "Ec = 3e6\n",
    "epsc = 0.003\n",
    "strain = linspace(-0.005, 0.005, 100)\n",
    "with backbone.Popovics(1, fc, epsc, Ec) as b:\n",
    "    plt.plot(strain, [b.getStress(e) for e in strain])"
   ]
  },
  {
   "cell_type": "code",
   "execution_count": 16,
   "id": "63a82618-cb93-4d2c-91df-29fe4658bb60",
   "metadata": {},
   "outputs": [
    {
     "name": "stdout",
     "output_type": "stream",
     "text": [
      "backbone Raynor 1  29000000.0  40000.0  70000.0  0.002  0.015  3  290000.0 \n",
      "\n"
     ]
    },
    {
     "data": {
      "image/png": "[encoded data removed]",
      "text/plain": [
       "<Figure size 432x288 with 1 Axes>"
      ]
     },
     "metadata": {
      "needs_background": "light"
     },
     "output_type": "display_data"
    }
   ],
   "source": [
    "strain = linspace(-0.010, 0.010, 100)\n",
    "\n",
    "with backbone.Raynor(1, 29e6, 40e3, 70e3, Epsilonsh=0.002, Epsilonsm=0.015, C1=3, Ey=0.01*29e6) as b:\n",
    "    plt.plot(strain, [b.getStress(e) for e in strain])\n"
   ]
  },
  {
   "cell_type": "code",
   "execution_count": 3,
   "id": "657f5118-c745-46b8-b398-629c6123315d",
   "metadata": {},
   "outputs": [
    {
     "ename": "SyntaxError",
     "evalue": "invalid syntax (4264292350.py, line 20)",
     "output_type": "error",
     "traceback": [
      "\u001b[0;36m  File \u001b[0;32m\"/tmp/ipykernel_32744/4264292350.py\"\u001b[0;36m, line \u001b[0;32m20\u001b[0m\n\u001b[0;31m    hystereticBackbone Bilinear\u001b[0m\n\u001b[0m                       ^\u001b[0m\n\u001b[0;31mSyntaxError\u001b[0m\u001b[0;31m:\u001b[0m invalid syntax\n"
     ]
    }
   ],
   "source": [
    "with backbone.ReeseSoftClay(None, pu,y50,n) as b:\n",
    "    pass\n",
    "\n",
    "with backbone.ReeseSand(None, kx,ym,pm,yu,pu) as b:\n",
    "    pass\n",
    "\n",
    "with backbone.ReeseStiffClayBelowWS(None, Esi, y50, As, Pc) as b:\n",
    "    pass\n",
    "\n",
    "\n",
    "\n",
    "# with backbone.Capped(None, hystereticBackboneTag,capTag) as b:\n",
    "#     pass\n",
    "# with backbone.LinearCapped(None, backboneTag,eCap,E,sRes) as b:\n",
    "#     pass\n",
    "# with backbone.Material(None, matTag)\" << endln; as b:\n",
    "#     pass\n",
    "\n",
    "hystereticBackbone Bilinear\n",
    "  void *theBB = OPS_BilinearBackbone(rt);\n",
    "\n",
    "hystereticBackbone Trilinear\n",
    "  void *theBB = OPS_TrilinearBackbone(rt);\n",
    "\n",
    "hystereticBackbone Multilinear\n",
    "  void *theBB = OPS_MultilinearBackbone(rt);\n",
    "\n",
    "hystereticBackbone Arctangent\n",
    "  void *theBB = OPS_ArctangentBackbone(rt);\n"
   ]
  }
 ],
 "metadata": {
  "kernelspec": {
   "display_name": "Python (elle)",
   "language": "python",
   "name": "elle"
  },
  "language_info": {
   "codemirror_mode": {
    "name": "ipython",
    "version": 3
   },
   "file_extension": ".py",
   "mimetype": "text/x-python",
   "name": "python",
   "nbconvert_exporter": "python",
   "pygments_lexer": "ipython3",
   "version": "3.8.12"
  }
 },
 "nbformat": 4,
 "nbformat_minor": 5
}
