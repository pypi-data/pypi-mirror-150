{
 "cells": [
  {
   "cell_type": "code",
   "execution_count": 1,
   "id": "d8662764-ef8d-4026-bce5-fd6339537821",
   "metadata": {},
   "outputs": [],
   "source": [
    "import opensees\n",
    "from opensees import section, layer, patch, element, uniaxial"
   ]
  },
  {
   "cell_type": "code",
   "execution_count": 2,
   "id": "e1ddd7e4-d089-4bde-a2a7-deb9c685ca1a",
   "metadata": {},
   "outputs": [],
   "source": [
    "from math import cos,sin,sqrt,pi\n",
    "import opensees\n",
    "import opensees.tcl\n",
    "from opensees.units.english import *\n",
    "# --------------------------------------------------------------------------------------------------\n",
    "# build a section\n",
    "#                     Silvia Mazzoni & Frank McKenna, 2006\n",
    "\n",
    "\n",
    "# MATERIAL parameters -------------------------------------------------------------------\n",
    "IDconcU = 1                # material ID tag -- unconfined cover concrete\n",
    "IDreinf = 2                # material ID tag -- reinforcement\n",
    "# nominal concrete compressive strength\n",
    "fc = -4.0*ksi              # CONCRETE Compressive Strength ksi   (+Tension -Compression)\n",
    "Ec = 57*ksi*sqrt(-fc/psi)  # Concrete Elastic Modulus\n",
    "# unconfined concrete\n",
    "fc1U = fc                  # UNCONFINED concrete (todeschini parabolic model) maximum stress\n",
    "eps1U = -0.003             # strain at maximum strength of unconfined concrete\n",
    "fc2U = 0.2*fc1U            # ultimate stress\n",
    "eps2U = -0.01              # strain at ultimate stress\n",
    "_lambda = 0.1              # ratio between unloading slope at eps2 and initial slope Ec\n",
    "# tensile-strength properties\n",
    "ftU = -0.14*fc1U           # tensile strength +tension\n",
    "Ets = ftU/0.002            # tension softening stiffness\n",
    "# -----------\n",
    "Fy = 66.8*ksi              # STEEL yield stress\n",
    "Es = 29000.*ksi            # modulus of steel\n",
    "Bs = 0.005                 # strain-hardening ratio \n",
    "R0 = 18                    # control the transition from elastic to plastic branches\n",
    "cR1 = 0.925                # control the transition from elastic to plastic branches\n",
    "cR2 = 0.15                 # control the transition from elastic to plastic branches"
   ]
  },
  {
   "cell_type": "code",
   "execution_count": 3,
   "id": "359ba9b4-60c7-40ac-b170-f07da5988b6c",
   "metadata": {},
   "outputs": [],
   "source": [
    "concU = uniaxial.Concrete02(IDconcU, fc1U, eps1U, fc2U, eps2U, _lambda, ftU, Ets)      # build 'cover, concrete (unconfined)\n",
    "reinf = uniaxial.Steel02(IDreinf, Fy, Es, Bs, R0, cR1, cR2)                            # build 'reinforcement' material"
   ]
  },
  {
   "cell_type": "markdown",
   "id": "5ac593ee-634b-4014-8eec-f816c38a94e4",
   "metadata": {},
   "source": [
    "## Section Geometry\n",
    "```\n",
    "                      y\n",
    "                      ^\n",
    "                      |     \n",
    "           ---------------------     --   --\n",
    "           |   o     o     o   |     |    -- cover\n",
    "           |                   |     |\n",
    "           |                   |     |\n",
    "    z <--- |         +         |     H\n",
    "           |                   |     |\n",
    "           |                   |     |\n",
    "           |   o     o     o   |     |    -- cover\n",
    "           ---------------------     --   --\n",
    "           |-------- B ---------|\n",
    "```"
   ]
  },
  {
   "cell_type": "code",
   "execution_count": 4,
   "id": "42980c22-a5c0-47e1-9366-cb9519654a1b",
   "metadata": {},
   "outputs": [],
   "source": [
    "HSec = 5.*ft            # Column Depth\n",
    "BSec = 3.*ft            # Column Width\n",
    "coverSec = 5.*inch      # Column cover to reinforcing steel NA.\n",
    "numBarsSec = 4          # number of longitudinal-reinforcement bars in steel layer. (symmetric top & bot)\n",
    "barAreaSec = 1*in2      # area of longitudinal-reinforcement bars\n",
    "SecTag = 1              # tag = for symmetric section\n",
    "\n",
    "# FIBER SECTION properties -------------------------------------------------------------\n",
    "# RC section: \n",
    "coverY = HSec/2.0        # Distance from section z-axis to edge of cover concrete -- outer edge of cover concrete\n",
    "coverZ = BSec/2.0        # Distance from section y-axis to edge of cover concrete -- outer edge of cover concrete\n",
    "coreY = coverY-coverSec  # Distance from section z-axis to edge of core concrete --  edge of the core concrete/inner edge of cover concrete\n",
    "coreZ = coverZ-coverSec  # Distance from section y-axis to edge of core concrete --  edge of the core concrete/inner edge of cover concrete\n",
    "nfY = 16                 # number of fibers for concrete in y-direction\n",
    "nfZ = 4                  # number of fibers for concrete in z-direction"
   ]
  },
  {
   "cell_type": "code",
   "execution_count": 5,
   "id": "6bb830ac-52fa-41fc-acba-b0d9e00cad86",
   "metadata": {},
   "outputs": [],
   "source": [
    "# Define the fiber section\n",
    "sect = section.FiberSection(SecTag,  1e6, [       \n",
    "   patch.quad(concU, [nfZ, nfY], \n",
    "       [[-coverY, coverZ],[-coverY, -coverZ],\n",
    "        [coverY, -coverZ],[coverY, coverZ]]),      # Define the, concrete 'patch'\n",
    "   layer.line(reinf, numBarsSec, barAreaSec, [[ coreY, coreZ],[ coreY, -coreZ]]),  # top layer, reinforcement\n",
    "   layer.line(reinf, numBarsSec, barAreaSec, [[-coreY, coreZ],[-coreY, -coreZ]]),  # bottom layer, reinfocement\n",
    "])"
   ]
  },
  {
   "cell_type": "code",
   "execution_count": 6,
   "id": "044d286e-aaa4-4c61-954b-ff3307c4ab89",
   "metadata": {},
   "outputs": [],
   "source": [
    "beam = element.forceBeamColumn(\n",
    "            transform = opensees.lib.LinearTransform(),\n",
    "            section = sect,\n",
    "            integration = {\"rule\": \"Lobatto\", \"num\": 8, \"section\": sect},\n",
    ")\n",
    "\n",
    "model = opensees.model(ndm=2,ndf=3,\n",
    "    nodes = {\n",
    "        1: [0.0, 0.0],\n",
    "        2: [0.0, 10.]\n",
    "    },\n",
    "    zeros = [[[1,], [1,1,1]]],\n",
    "    elems = [(beam, [1, 2])],\n",
    "\n",
    ")"
   ]
  },
  {
   "cell_type": "code",
   "execution_count": null,
   "id": "3c8dec43-55ee-4037-a516-9a70ba89f984",
   "metadata": {},
   "outputs": [],
   "source": []
  },
  {
   "cell_type": "code",
   "execution_count": 7,
   "id": "75edb370-9d34-4ffa-b21c-0db669d0ae2d",
   "metadata": {},
   "outputs": [],
   "source": [
    "# rt = opensees.tcl.TclRuntime(model)"
   ]
  },
  {
   "cell_type": "code",
   "execution_count": 8,
   "id": "03134d7d-2425-4c25-9921-8c21c28fc031",
   "metadata": {},
   "outputs": [
    {
     "name": "stdout",
     "output_type": "stream",
     "text": [
      "0.0\n"
     ]
    }
   ],
   "source": [
    "with concU as mat:\n",
    "    print(mat.getStress())"
   ]
  },
  {
   "cell_type": "code",
   "execution_count": 9,
   "id": "7e84942d-038e-4dfe-aefa-9cf193f569da",
   "metadata": {},
   "outputs": [
    {
     "name": "stdout",
     "output_type": "stream",
     "text": [
      "\n",
      "\n",
      "#============================================================\n",
      "# Initializations\n",
      "#============================================================\n",
      "# Parameters\n",
      "\n",
      "\n",
      "# Create ModelBuilder (with 2 dimensions and 3 DOF/node)\n",
      "model BasicBuilder -ndm 2 -ndf 3\n",
      "lassign {1 2 3} dx dy dz rx ry rz\n",
      "#============================================================\n",
      "# Materials\n",
      "#============================================================\n",
      "\n",
      " geomTransf Linear  1   $vecxz1  $vecxz2  $vecxz3 \n",
      "uniaxialMaterial Steel02  2  66800.0  29000000.0  0.005  18  0.925  0.15 \n",
      "uniaxialMaterial Concrete02  1  -4000.0  -0.003  -800.0  -0.01  0.1  560.0  280000.0 \n",
      "section FiberSection  1 -GJ 1000000.0  { \n",
      "\tpatch quad  1   16  4    18.000000000000004  -30.000000000000004   -18.000000000000004  -30.000000000000004   -18.000000000000004  30.000000000000004   18.000000000000004  30.000000000000004 \n",
      "\tlayer line  2  4  1.0    13.000000000000004  25.000000000000004   -13.000000000000004  25.000000000000004 \n",
      "\tlayer line  2  4  1.0    13.000000000000004  -25.000000000000004   -13.000000000000004  -25.000000000000004 \n",
      "} \n",
      "\n",
      "#============================================================\n",
      "# Assemblage\n",
      "#============================================================\n",
      "\n",
      "node  1   0.0  0.0 -mass  0.0  0.0  0.0  0.0  0.0  0.0\n",
      "node  2   0.0  10.0 -mass  0.0  0.0  0.0  0.0  0.0  0.0\n",
      "\n",
      "\n",
      "element forceBeamColumn  1   1  2  1 Lobatto <FiberSection object at 0x7f66cc6ae0e0> 8 -mass 0.0\n",
      "\n",
      "#============================================================\n",
      "# Constraints\n",
      "#============================================================\n",
      "\n",
      "fix 1 1 1 1\n",
      "\n"
     ]
    }
   ],
   "source": [
    "import opensees.tcl\n",
    "print(opensees.tcl.dumps(model))"
   ]
  },
  {
   "cell_type": "code",
   "execution_count": 10,
   "id": "10cd8f03-9cb6-4920-a17e-982bdd2148a8",
   "metadata": {},
   "outputs": [
    {
     "data": {
      "text/plain": [
       "<Concrete02 at 0x7f66cc66f3c0>"
      ]
     },
     "execution_count": 10,
     "metadata": {},
     "output_type": "execute_result"
    }
   ],
   "source": [
    "concU"
   ]
  },
  {
   "cell_type": "code",
   "execution_count": 21,
   "id": "da901a8f-7f7a-4b95-9960-310d1a57099a",
   "metadata": {},
   "outputs": [
    {
     "name": "stdout",
     "output_type": "stream",
     "text": [
      "7\n",
      "-1.0312689655172411 [     0.         108911.11111111]\n"
     ]
    }
   ],
   "source": []
  },
  {
   "cell_type": "code",
   "execution_count": null,
   "id": "4943c568-a6fe-4422-b4d2-936aace6990f",
   "metadata": {},
   "outputs": [],
   "source": []
  }
 ],
 "metadata": {
  "kernelspec": {
   "display_name": "Python (elle)",
   "language": "python",
   "name": "elle"
  },
  "language_info": {
   "codemirror_mode": {
    "name": "ipython",
    "version": 3
   },
   "file_extension": ".py",
   "mimetype": "text/x-python",
   "name": "python",
   "nbconvert_exporter": "python",
   "pygments_lexer": "ipython3",
   "version": "3.8.12"
  }
 },
 "nbformat": 4,
 "nbformat_minor": 5
}
