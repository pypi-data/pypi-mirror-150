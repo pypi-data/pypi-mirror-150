{
 "cells": [
  {
   "cell_type": "code",
   "execution_count": 1,
   "id": "aaa9b793",
   "metadata": {},
   "outputs": [
    {
     "data": {
      "text/plain": [
       "[1.5, 1.0, -0.5, -1.5, -1.0, 0.5, 1.5]"
      ]
     },
     "execution_count": 1,
     "metadata": {},
     "output_type": "execute_result"
    }
   ],
   "source": [
    "kernel = [.5, .5]  # <1>\n",
    "inpt = [1, 2, 0, -1, -2, 0, 1, 2]\n",
    "\n",
    "output = []\n",
    "for i in range(len(inpt) - 1):  # <2>\n",
    "    output.append(\n",
    "        sum([\n",
    "                inpt[i + k] * kernel[k]\n",
    "                for k in range(2)  # <3>\n",
    "            ]))\n",
    "output"
   ]
  },
  {
   "cell_type": "markdown",
   "id": "68457a33",
   "metadata": {},
   "source": [
    "<1> the kernel weights .5 and .5 create a moving average convolution \n",
    "<2> stop at second to last input value so the window size of 2 doesn't slide off the end of the input\n",
    "<3> kernel is 2 long and the list comprehension iterates over the kernel length (2)"
   ]
  },
  {
   "cell_type": "code",
   "execution_count": 10,
   "id": "5e788f59",
   "metadata": {},
   "outputs": [
    {
     "data": {
      "text/plain": [
       "[3, 2, -1, -3, -2, 1, 3]"
      ]
     },
     "execution_count": 10,
     "metadata": {},
     "output_type": "execute_result"
    }
   ],
   "source": [
    "output"
   ]
  },
  {
   "cell_type": "markdown",
   "id": "f6f2153d",
   "metadata": {},
   "source": [
    "`[3, 2, -1, -3, -2, 1, 3]`"
   ]
  },
  {
   "cell_type": "code",
   "execution_count": 11,
   "id": "1f62abb5",
   "metadata": {},
   "outputs": [],
   "source": [
    "def convolve(inpt, kernel):\n",
    "    output = []\n",
    "    for i in range(len(inpt) - len(kernel) + 1):  # <1>\n",
    "        output.append(\n",
    "            sum(\n",
    "                [\n",
    "                    inpt[i + k] * kernel[k]\n",
    "                    for k in range(len(kernel))  # <2>\n",
    "                ]\n",
    "            )\n",
    "        )\n",
    "    return output"
   ]
  },
  {
   "cell_type": "markdown",
   "id": "2d2685dc",
   "metadata": {},
   "source": [
    "<1> to generalize the function you stop the convolution based on the size of the kernel  \n",
    "<2> the inner list comprehension iterates over the kernel length  "
   ]
  },
  {
   "cell_type": "code",
   "execution_count": 13,
   "id": "4035bf9e",
   "metadata": {},
   "outputs": [
    {
     "data": {
      "text/plain": [
       "[3, 1, -3, -3, -1, 3]"
      ]
     },
     "execution_count": 13,
     "metadata": {},
     "output_type": "execute_result"
    }
   ],
   "source": [
    "convolve(inpt=inpt, kernel=[1, 1, 1])"
   ]
  },
  {
   "cell_type": "markdown",
   "id": "c909426a",
   "metadata": {},
   "source": [
    "`[3, 1, -3, -3, -1, 3]`"
   ]
  },
  {
   "cell_type": "code",
   "execution_count": 3,
   "id": "40c2f3b6",
   "metadata": {},
   "outputs": [
    {
     "ename": "ImportError",
     "evalue": "cannot import name 'maybe_download' from 'nlpia2' (/home/hobs/code/tangibleai/nlpia2/src/nlpia2/__init__.py)",
     "output_type": "error",
     "traceback": [
      "\u001b[0;31m---------------------------------------------------------------------------\u001b[0m",
      "\u001b[0;31mImportError\u001b[0m                               Traceback (most recent call last)",
      "Input \u001b[0;32mIn [3]\u001b[0m, in \u001b[0;36m<cell line: 2>\u001b[0;34m()\u001b[0m\n\u001b[1;32m      1\u001b[0m \u001b[38;5;66;03m# .listing 7.3 download secret message\u001b[39;00m\n\u001b[0;32m----> 2\u001b[0m \u001b[38;5;28;01mfrom\u001b[39;00m \u001b[38;5;21;01mnlpia2\u001b[39;00m \u001b[38;5;28;01mimport\u001b[39;00m maybe_download\n\u001b[1;32m      4\u001b[0m url \u001b[38;5;241m=\u001b[39m \u001b[38;5;124m'\u001b[39m\u001b[38;5;124mhttps://commons.wikimedia.org/wiki/File:1210secretmorzecode.wav\u001b[39m\u001b[38;5;124m'\u001b[39m\n\u001b[1;32m      5\u001b[0m filepath \u001b[38;5;241m=\u001b[39m maybe_download(url)\n",
      "\u001b[0;31mImportError\u001b[0m: cannot import name 'maybe_download' from 'nlpia2' (/home/hobs/code/tangibleai/nlpia2/src/nlpia2/__init__.py)"
     ]
    }
   ],
   "source": [
    "# .listing 7.3 download secret message\n",
    "from nlpia2 import maybe_download\n",
    "\n",
    "url = 'https://commons.wikimedia.org/wiki/File:1210secretmorzecode.wav'\n",
    "filepath = maybe_download(url)"
   ]
  },
  {
   "cell_type": "code",
   "execution_count": null,
   "id": "54b0a695",
   "metadata": {},
   "outputs": [],
   "source": []
  }
 ],
 "metadata": {
  "kernelspec": {
   "display_name": "Python 3 (ipykernel)",
   "language": "python",
   "name": "python3"
  },
  "language_info": {
   "codemirror_mode": {
    "name": "ipython",
    "version": 3
   },
   "file_extension": ".py",
   "mimetype": "text/x-python",
   "name": "python",
   "nbconvert_exporter": "python",
   "pygments_lexer": "ipython3",
   "version": "3.9.7"
  }
 },
 "nbformat": 4,
 "nbformat_minor": 5
}
