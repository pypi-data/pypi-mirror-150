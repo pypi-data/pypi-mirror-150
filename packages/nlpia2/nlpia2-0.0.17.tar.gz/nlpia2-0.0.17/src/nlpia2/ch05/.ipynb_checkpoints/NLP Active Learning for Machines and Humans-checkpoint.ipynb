{
 "cells": [
  {
   "cell_type": "markdown",
   "id": "b7a2c28c",
   "metadata": {},
   "source": [
    "# Slides\n",
    "\n",
    "## Algorithm\n",
    "\n",
    "### Inputs\n",
    "\n",
    "* C: Supervised **C**lassifier (e.g. `LogisiticRegression`)\n",
    "* T: **T**rainingSet\n",
    "* A: Unsupervised **A**nnomalyDetector\n",
    "* V: **V**alidationSet\n",
    "* accuracy_threshold: Desired validation accuracy for the **C**lassifier \n",
    "\n",
    "#### Repeat Indefinitely:\n",
    "    \n",
    "    ```python\n",
    "    while True:\n",
    "    ```\n",
    "\n",
    "#### 1. Train **C**lassifier on **T**rainingSet\n",
    "\n",
    "        ```python\n",
    "        C = C.fit(T)\n",
    "        ```\n",
    "\n",
    "#### 2. Evaluate **C**lassifier on **V**alidationSet and decide if done\n",
    "\n",
    "        ```python\n",
    "        if C.score(V) > required_accuracy:\n",
    "            break\n",
    "        ```\n",
    "\n",
    "#### 3. Estimate confidence and density (difficulty) for **U**nlabeledData with **C**lassifier and **A**nnomalyDetector\n",
    "\n",
    "        ```python \n",
    "        U['difficulty'] = C.predict_proba(U) * (1 - A.predict_proba(U))\n",
    "        ```\n",
    "\n",
    "#### 4. Select **D**ifficultData examples based on uncertainty and density\n",
    "\n",
    "        ```python\n",
    "        D = U.sort_values('uncertainty*density')[-10:]  \n",
    "        ```\n",
    "\n",
    "#### 5. Split **D**ifficultData into **D**ifficult**T**rainingData and **D**ifficult**V**alidationData\n",
    "\n",
    "        ```python\n",
    "        DT, DV = split(H.predict(D))\n",
    "        ```\n",
    "\n",
    "#### 6. Augment **T**rainingData with newly labeled **D**ifficult**T**rainingData\n",
    "\n",
    "        ```python\n",
    "        T.extend(DT)\n",
    "        V.extend(DV)\n",
    "        ```"
   ]
  },
  {
   "cell_type": "markdown",
   "id": "12816a7d",
   "metadata": {},
   "source": [
    "### Repeat Indefinitely:\n"
   ]
  },
  {
   "cell_type": "code",
   "execution_count": null,
   "id": "9202ab01",
   "metadata": {},
   "outputs": [],
   "source": [
    "while True:\n",
    "    C.fit(T)\n",
    "    if C.score(V) > required_accuracy:\n",
    "        break\n",
    "    U['difficulty'] = C.predict_proba(U) * estimate_density(U)\n",
    "    D = U.sort_values('difficulty')[-10:]"
   ]
  }
 ],
 "metadata": {
  "kernelspec": {
   "display_name": "Python 3 (ipykernel)",
   "language": "python",
   "name": "python3"
  },
  "language_info": {
   "codemirror_mode": {
    "name": "ipython",
    "version": 3
   },
   "file_extension": ".py",
   "mimetype": "text/x-python",
   "name": "python",
   "nbconvert_exporter": "python",
   "pygments_lexer": "ipython3",
   "version": "3.9.7"
  }
 },
 "nbformat": 4,
 "nbformat_minor": 5
}
