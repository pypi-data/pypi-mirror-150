{
 "cells": [
  {
   "cell_type": "markdown",
   "id": "0ac4c866",
   "metadata": {},
   "source": [
    "Predicting baby name sex using PyTorch for Logistic Regression\n",
    "\n",
    "### References\n",
    "\n",
    "- [Logistic Regression with PyTorch](https://proai.org/pytorch-logistic-regression) by [Denny Loevlie](https://twitter.com/DennisLoevlie)\n",
    "- [PyTorch OO design compared with SkLearn](https://jeancochrane.com/blog/pytorch-functional-api) by [Jean Cochrane](https://JeanCochrane.com)\n",
    "- [Building Your First Network in PyTorch](https://t.co/m9I4e0tfrC) by [Ta-Ying Cheng](https://www.linkedin.com/in/tim-ta-ying-cheng-411857139/)\n",
    "- [data.world US baby names since 1880](https://data.world/ssa/baby-names-for-us-states-territories)\n",
    "\n"
   ]
  },
  {
   "cell_type": "code",
   "execution_count": 11,
   "id": "922e4692",
   "metadata": {},
   "outputs": [],
   "source": [
    ">>> import pandas as pd\n",
    ">>> import numpy as np\n",
    ">>> pd.options.display.max_rows = 5\n",
    ">>> np.random.seed(451)"
   ]
  },
  {
   "cell_type": "code",
   "execution_count": 12,
   "id": "465d816c",
   "metadata": {},
   "outputs": [],
   "source": [
    "# >>> raw = pd.read_csv('https://proai.org/baby-names-us.csv.gz', index_col=0)\n",
    "# >>> raw"
   ]
  },
  {
   "cell_type": "code",
   "execution_count": 13,
   "id": "ff5409d6",
   "metadata": {},
   "outputs": [],
   "source": [
    "# >>> df = raw.sample(10_000)"
   ]
  },
  {
   "cell_type": "code",
   "execution_count": 14,
   "id": "e7357821",
   "metadata": {},
   "outputs": [],
   "source": [
    "# >>> df = df.set_index(['name', 'sex'])[['count']]\n",
    "# >>> df"
   ]
  },
  {
   "cell_type": "code",
   "execution_count": 15,
   "id": "d1686d92",
   "metadata": {},
   "outputs": [],
   "source": [
    "# >>> df.to_csv('name-sex-count-10k.csv.gz')"
   ]
  },
  {
   "cell_type": "code",
   "execution_count": 16,
   "id": "3903b2a1",
   "metadata": {},
   "outputs": [],
   "source": [
    "# >>> raw.groupby(['name', 'sex']).sum().loc[('Maria',)]"
   ]
  },
  {
   "cell_type": "code",
   "execution_count": 17,
   "id": "2645d275",
   "metadata": {
    "scrolled": true
   },
   "outputs": [
    {
     "data": {
      "text/html": [
       "<div>\n",
       "<style scoped>\n",
       "    .dataframe tbody tr th:only-of-type {\n",
       "        vertical-align: middle;\n",
       "    }\n",
       "\n",
       "    .dataframe tbody tr th {\n",
       "        vertical-align: top;\n",
       "    }\n",
       "\n",
       "    .dataframe thead th {\n",
       "        text-align: right;\n",
       "    }\n",
       "</style>\n",
       "<table border=\"1\" class=\"dataframe\">\n",
       "  <thead>\n",
       "    <tr style=\"text-align: right;\">\n",
       "      <th></th>\n",
       "      <th></th>\n",
       "      <th>count</th>\n",
       "    </tr>\n",
       "    <tr>\n",
       "      <th>name</th>\n",
       "      <th>sex</th>\n",
       "      <th></th>\n",
       "    </tr>\n",
       "  </thead>\n",
       "  <tbody>\n",
       "    <tr>\n",
       "      <th>Brittani</th>\n",
       "      <th>F</th>\n",
       "      <td>10</td>\n",
       "    </tr>\n",
       "    <tr>\n",
       "      <th>Ida</th>\n",
       "      <th>F</th>\n",
       "      <td>18</td>\n",
       "    </tr>\n",
       "    <tr>\n",
       "      <th>...</th>\n",
       "      <th>...</th>\n",
       "      <td>...</td>\n",
       "    </tr>\n",
       "    <tr>\n",
       "      <th>Carley</th>\n",
       "      <th>F</th>\n",
       "      <td>11</td>\n",
       "    </tr>\n",
       "    <tr>\n",
       "      <th>Kartier</th>\n",
       "      <th>M</th>\n",
       "      <td>10</td>\n",
       "    </tr>\n",
       "  </tbody>\n",
       "</table>\n",
       "<p>10000 rows × 1 columns</p>\n",
       "</div>"
      ],
      "text/plain": [
       "              count\n",
       "name     sex       \n",
       "Brittani F       10\n",
       "Ida      F       18\n",
       "...             ...\n",
       "Carley   F       11\n",
       "Kartier  M       10\n",
       "\n",
       "[10000 rows x 1 columns]"
      ]
     },
     "execution_count": 17,
     "metadata": {},
     "output_type": "execute_result"
    }
   ],
   "source": [
    ">>> df = pd.read_csv('name-sex-count-10k.csv.gz', index_col=[0, 1])\n",
    ">>> df"
   ]
  },
  {
   "cell_type": "code",
   "execution_count": 20,
   "id": "fff4a397",
   "metadata": {},
   "outputs": [
    {
     "data": {
      "text/plain": [
       "0.4025"
      ]
     },
     "execution_count": 20,
     "metadata": {},
     "output_type": "execute_result"
    }
   ],
   "source": [
    ">>> unique_names = df.index.get_level_values('name').unique()\n",
    ">>> len(unique_names) / len(df)"
   ]
  },
  {
   "cell_type": "code",
   "execution_count": 4,
   "id": "1f7bcd1b",
   "metadata": {},
   "outputs": [
    {
     "data": {
      "text/html": [
       "<div>\n",
       "<style scoped>\n",
       "    .dataframe tbody tr th:only-of-type {\n",
       "        vertical-align: middle;\n",
       "    }\n",
       "\n",
       "    .dataframe tbody tr th {\n",
       "        vertical-align: top;\n",
       "    }\n",
       "\n",
       "    .dataframe thead th {\n",
       "        text-align: right;\n",
       "    }\n",
       "</style>\n",
       "<table border=\"1\" class=\"dataframe\">\n",
       "  <thead>\n",
       "    <tr style=\"text-align: right;\">\n",
       "      <th></th>\n",
       "      <th>region</th>\n",
       "      <th>sex_</th>\n",
       "      <th>year</th>\n",
       "      <th>name_</th>\n",
       "      <th>count</th>\n",
       "      <th>freq</th>\n",
       "    </tr>\n",
       "  </thead>\n",
       "  <tbody>\n",
       "    <tr>\n",
       "      <th>6139665</th>\n",
       "      <td>WV</td>\n",
       "      <td>F</td>\n",
       "      <td>1987</td>\n",
       "      <td>Brittani</td>\n",
       "      <td>10</td>\n",
       "      <td>0.000003</td>\n",
       "    </tr>\n",
       "    <tr>\n",
       "      <th>2565339</th>\n",
       "      <td>MD</td>\n",
       "      <td>F</td>\n",
       "      <td>1954</td>\n",
       "      <td>Ida</td>\n",
       "      <td>18</td>\n",
       "      <td>0.000005</td>\n",
       "    </tr>\n",
       "    <tr>\n",
       "      <th>...</th>\n",
       "      <td>...</td>\n",
       "      <td>...</td>\n",
       "      <td>...</td>\n",
       "      <td>...</td>\n",
       "      <td>...</td>\n",
       "      <td>...</td>\n",
       "    </tr>\n",
       "    <tr>\n",
       "      <th>5744351</th>\n",
       "      <td>VA</td>\n",
       "      <td>F</td>\n",
       "      <td>2007</td>\n",
       "      <td>Carley</td>\n",
       "      <td>11</td>\n",
       "      <td>0.000003</td>\n",
       "    </tr>\n",
       "    <tr>\n",
       "      <th>5583882</th>\n",
       "      <td>TX</td>\n",
       "      <td>M</td>\n",
       "      <td>2019</td>\n",
       "      <td>Kartier</td>\n",
       "      <td>10</td>\n",
       "      <td>0.000003</td>\n",
       "    </tr>\n",
       "  </tbody>\n",
       "</table>\n",
       "<p>10000 rows × 6 columns</p>\n",
       "</div>"
      ],
      "text/plain": [
       "        region sex_  year     name_  count      freq\n",
       "6139665     WV    F  1987  Brittani     10  0.000003\n",
       "2565339     MD    F  1954       Ida     18  0.000005\n",
       "...        ...  ...   ...       ...    ...       ...\n",
       "5744351     VA    F  2007    Carley     11  0.000003\n",
       "5583882     TX    M  2019   Kartier     10  0.000003\n",
       "\n",
       "[10000 rows x 6 columns]"
      ]
     },
     "execution_count": 4,
     "metadata": {},
     "output_type": "execute_result"
    }
   ],
   "source": [
    "# df = df.rename(dict(name='name_', sex='sex_'), axis=1)\n",
    "# df"
   ]
  },
  {
   "cell_type": "code",
   "execution_count": 21,
   "id": "72d4d821",
   "metadata": {},
   "outputs": [
    {
     "data": {
      "text/html": [
       "<div>\n",
       "<style scoped>\n",
       "    .dataframe tbody tr th:only-of-type {\n",
       "        vertical-align: middle;\n",
       "    }\n",
       "\n",
       "    .dataframe tbody tr th {\n",
       "        vertical-align: top;\n",
       "    }\n",
       "\n",
       "    .dataframe thead th {\n",
       "        text-align: right;\n",
       "    }\n",
       "</style>\n",
       "<table border=\"1\" class=\"dataframe\">\n",
       "  <thead>\n",
       "    <tr style=\"text-align: right;\">\n",
       "      <th></th>\n",
       "      <th></th>\n",
       "      <th>count</th>\n",
       "    </tr>\n",
       "    <tr>\n",
       "      <th>name</th>\n",
       "      <th>sex</th>\n",
       "      <th></th>\n",
       "    </tr>\n",
       "  </thead>\n",
       "  <tbody>\n",
       "    <tr>\n",
       "      <th>Aaden</th>\n",
       "      <th>M</th>\n",
       "      <td>51</td>\n",
       "    </tr>\n",
       "    <tr>\n",
       "      <th>Aahana</th>\n",
       "      <th>F</th>\n",
       "      <td>26</td>\n",
       "    </tr>\n",
       "    <tr>\n",
       "      <th>...</th>\n",
       "      <th>...</th>\n",
       "      <td>...</td>\n",
       "    </tr>\n",
       "    <tr>\n",
       "      <th>Zya</th>\n",
       "      <th>F</th>\n",
       "      <td>8</td>\n",
       "    </tr>\n",
       "    <tr>\n",
       "      <th>Zylah</th>\n",
       "      <th>F</th>\n",
       "      <td>5</td>\n",
       "    </tr>\n",
       "  </tbody>\n",
       "</table>\n",
       "<p>4238 rows × 1 columns</p>\n",
       "</div>"
      ],
      "text/plain": [
       "            count\n",
       "name   sex       \n",
       "Aaden  M       51\n",
       "Aahana F       26\n",
       "...           ...\n",
       "Zya    F        8\n",
       "Zylah  F        5\n",
       "\n",
       "[4238 rows x 1 columns]"
      ]
     },
     "execution_count": 21,
     "metadata": {},
     "output_type": "execute_result"
    }
   ],
   "source": [
    "# df = df[['name_', 'sex_', 'count']]\n",
    ">>> df = df.groupby(['name', 'sex']).sum()\n",
    ">>> df"
   ]
  },
  {
   "cell_type": "code",
   "execution_count": 7,
   "id": "00953070",
   "metadata": {},
   "outputs": [
    {
     "data": {
      "text/html": [
       "<div>\n",
       "<style scoped>\n",
       "    .dataframe tbody tr th:only-of-type {\n",
       "        vertical-align: middle;\n",
       "    }\n",
       "\n",
       "    .dataframe tbody tr th {\n",
       "        vertical-align: top;\n",
       "    }\n",
       "\n",
       "    .dataframe thead th {\n",
       "        text-align: right;\n",
       "    }\n",
       "</style>\n",
       "<table border=\"1\" class=\"dataframe\">\n",
       "  <thead>\n",
       "    <tr style=\"text-align: right;\">\n",
       "      <th></th>\n",
       "      <th></th>\n",
       "      <th>count</th>\n",
       "      <th>name</th>\n",
       "      <th>sex</th>\n",
       "    </tr>\n",
       "    <tr>\n",
       "      <th>name_</th>\n",
       "      <th>sex_</th>\n",
       "      <th></th>\n",
       "      <th></th>\n",
       "      <th></th>\n",
       "    </tr>\n",
       "  </thead>\n",
       "  <tbody>\n",
       "    <tr>\n",
       "      <th>Aaden</th>\n",
       "      <th>M</th>\n",
       "      <td>51</td>\n",
       "      <td>Aaden</td>\n",
       "      <td>M</td>\n",
       "    </tr>\n",
       "    <tr>\n",
       "      <th>Aahana</th>\n",
       "      <th>F</th>\n",
       "      <td>26</td>\n",
       "      <td>Aahana</td>\n",
       "      <td>F</td>\n",
       "    </tr>\n",
       "    <tr>\n",
       "      <th>...</th>\n",
       "      <th>...</th>\n",
       "      <td>...</td>\n",
       "      <td>...</td>\n",
       "      <td>...</td>\n",
       "    </tr>\n",
       "    <tr>\n",
       "      <th>Zya</th>\n",
       "      <th>F</th>\n",
       "      <td>8</td>\n",
       "      <td>Zya</td>\n",
       "      <td>F</td>\n",
       "    </tr>\n",
       "    <tr>\n",
       "      <th>Zylah</th>\n",
       "      <th>F</th>\n",
       "      <td>5</td>\n",
       "      <td>Zylah</td>\n",
       "      <td>F</td>\n",
       "    </tr>\n",
       "  </tbody>\n",
       "</table>\n",
       "<p>4238 rows × 3 columns</p>\n",
       "</div>"
      ],
      "text/plain": [
       "             count    name sex\n",
       "name_  sex_                   \n",
       "Aaden  M        51   Aaden   M\n",
       "Aahana F        26  Aahana   F\n",
       "...            ...     ...  ..\n",
       "Zya    F         8     Zya   F\n",
       "Zylah  F         5   Zylah   F\n",
       "\n",
       "[4238 rows x 3 columns]"
      ]
     },
     "execution_count": 7,
     "metadata": {},
     "output_type": "execute_result"
    }
   ],
   "source": [
    "# df['name'] = df.index.get_level_values('name_')\n",
    "# df['sex'] = df.index.get_level_values('sex_')\n",
    "# df"
   ]
  },
  {
   "cell_type": "code",
   "execution_count": 8,
   "id": "76f9fe94",
   "metadata": {},
   "outputs": [
    {
     "data": {
      "text/html": [
       "<div>\n",
       "<style scoped>\n",
       "    .dataframe tbody tr th:only-of-type {\n",
       "        vertical-align: middle;\n",
       "    }\n",
       "\n",
       "    .dataframe tbody tr th {\n",
       "        vertical-align: top;\n",
       "    }\n",
       "\n",
       "    .dataframe thead th {\n",
       "        text-align: right;\n",
       "    }\n",
       "</style>\n",
       "<table border=\"1\" class=\"dataframe\">\n",
       "  <thead>\n",
       "    <tr style=\"text-align: right;\">\n",
       "      <th></th>\n",
       "      <th></th>\n",
       "      <th>count</th>\n",
       "      <th>name</th>\n",
       "      <th>sex</th>\n",
       "    </tr>\n",
       "    <tr>\n",
       "      <th>name_</th>\n",
       "      <th>sex_</th>\n",
       "      <th></th>\n",
       "      <th></th>\n",
       "      <th></th>\n",
       "    </tr>\n",
       "  </thead>\n",
       "  <tbody>\n",
       "    <tr>\n",
       "      <th>Aaden</th>\n",
       "      <th>M</th>\n",
       "      <td>51</td>\n",
       "      <td>Aaden</td>\n",
       "      <td>M</td>\n",
       "    </tr>\n",
       "    <tr>\n",
       "      <th>Aahana</th>\n",
       "      <th>F</th>\n",
       "      <td>26</td>\n",
       "      <td>Aahana</td>\n",
       "      <td>F</td>\n",
       "    </tr>\n",
       "    <tr>\n",
       "      <th>...</th>\n",
       "      <th>...</th>\n",
       "      <td>...</td>\n",
       "      <td>...</td>\n",
       "      <td>...</td>\n",
       "    </tr>\n",
       "    <tr>\n",
       "      <th>Zya</th>\n",
       "      <th>F</th>\n",
       "      <td>8</td>\n",
       "      <td>Zya</td>\n",
       "      <td>F</td>\n",
       "    </tr>\n",
       "    <tr>\n",
       "      <th>Zylah</th>\n",
       "      <th>F</th>\n",
       "      <td>5</td>\n",
       "      <td>Zylah</td>\n",
       "      <td>F</td>\n",
       "    </tr>\n",
       "  </tbody>\n",
       "</table>\n",
       "<p>4238 rows × 3 columns</p>\n",
       "</div>"
      ],
      "text/plain": [
       "             count    name sex\n",
       "name_  sex_                   \n",
       "Aaden  M        51   Aaden   M\n",
       "Aahana F        26  Aahana   F\n",
       "...            ...     ...  ..\n",
       "Zya    F         8     Zya   F\n",
       "Zylah  F         5   Zylah   F\n",
       "\n",
       "[4238 rows x 3 columns]"
      ]
     },
     "execution_count": 8,
     "metadata": {},
     "output_type": "execute_result"
    }
   ],
   "source": [
    "# df.to_csv('name-sex-count-10k.csv.gz')\n",
    "# df"
   ]
  },
  {
   "cell_type": "code",
   "execution_count": 9,
   "id": "89da61ff",
   "metadata": {},
   "outputs": [
    {
     "data": {
      "text/html": [
       "<div>\n",
       "<style scoped>\n",
       "    .dataframe tbody tr th:only-of-type {\n",
       "        vertical-align: middle;\n",
       "    }\n",
       "\n",
       "    .dataframe tbody tr th {\n",
       "        vertical-align: top;\n",
       "    }\n",
       "\n",
       "    .dataframe thead th {\n",
       "        text-align: right;\n",
       "    }\n",
       "</style>\n",
       "<table border=\"1\" class=\"dataframe\">\n",
       "  <thead>\n",
       "    <tr style=\"text-align: right;\">\n",
       "      <th></th>\n",
       "      <th></th>\n",
       "      <th>count</th>\n",
       "      <th>name</th>\n",
       "      <th>sex</th>\n",
       "    </tr>\n",
       "    <tr>\n",
       "      <th>name_</th>\n",
       "      <th>sex_</th>\n",
       "      <th></th>\n",
       "      <th></th>\n",
       "      <th></th>\n",
       "    </tr>\n",
       "  </thead>\n",
       "  <tbody>\n",
       "    <tr>\n",
       "      <th>Aaden</th>\n",
       "      <th>M</th>\n",
       "      <td>51</td>\n",
       "      <td>Aaden</td>\n",
       "      <td>M</td>\n",
       "    </tr>\n",
       "    <tr>\n",
       "      <th>Aahana</th>\n",
       "      <th>F</th>\n",
       "      <td>26</td>\n",
       "      <td>Aahana</td>\n",
       "      <td>F</td>\n",
       "    </tr>\n",
       "    <tr>\n",
       "      <th>...</th>\n",
       "      <th>...</th>\n",
       "      <td>...</td>\n",
       "      <td>...</td>\n",
       "      <td>...</td>\n",
       "    </tr>\n",
       "    <tr>\n",
       "      <th>Zya</th>\n",
       "      <th>F</th>\n",
       "      <td>8</td>\n",
       "      <td>Zya</td>\n",
       "      <td>F</td>\n",
       "    </tr>\n",
       "    <tr>\n",
       "      <th>Zylah</th>\n",
       "      <th>F</th>\n",
       "      <td>5</td>\n",
       "      <td>Zylah</td>\n",
       "      <td>F</td>\n",
       "    </tr>\n",
       "  </tbody>\n",
       "</table>\n",
       "<p>4238 rows × 3 columns</p>\n",
       "</div>"
      ],
      "text/plain": [
       "             count    name sex\n",
       "name_  sex_                   \n",
       "Aaden  M        51   Aaden   M\n",
       "Aahana F        26  Aahana   F\n",
       "...            ...     ...  ..\n",
       "Zya    F         8     Zya   F\n",
       "Zylah  F         5   Zylah   F\n",
       "\n",
       "[4238 rows x 3 columns]"
      ]
     },
     "execution_count": 9,
     "metadata": {},
     "output_type": "execute_result"
    }
   ],
   "source": [
    "# >>> df = pd.read_csv('name-sex-count-10k.csv.gz', index_col=[0,1])\n",
    "# >>> df"
   ]
  },
  {
   "cell_type": "markdown",
   "id": "e7162b9c",
   "metadata": {},
   "source": [
    "After summing over the regions (states), you end up with less than half the original number of unique name-sex pairs."
   ]
  },
  {
   "cell_type": "code",
   "execution_count": 11,
   "id": "7cc24325",
   "metadata": {},
   "outputs": [
    {
     "data": {
      "text/plain": [
       "sex\n",
       "F    69\n",
       "Name: count, dtype: int64"
      ]
     },
     "execution_count": 11,
     "metadata": {},
     "output_type": "execute_result"
    }
   ],
   "source": [
    ">>> df.groupby(['name', 'sex'])['count'].sum()[('Maria',)]"
   ]
  },
  {
   "cell_type": "code",
   "execution_count": null,
   "id": "746480b6",
   "metadata": {},
   "outputs": [],
   "source": [
    "# df = pd.read_csv('https://proai.org/baby-names-us.csv.gz')\n",
    ">>> raw.groupby(['name', 'sex'])['count'].sum()[('Avi',)]"
   ]
  },
  {
   "cell_type": "code",
   "execution_count": null,
   "id": "81e6d0f6",
   "metadata": {},
   "outputs": [],
   "source": [
    ">>> df.index = pd.MultiIndex.from_tuples(\n",
    "...     zip(df['name'], df['sex']), names=['name_', 'sex_'])"
   ]
  },
  {
   "cell_type": "code",
   "execution_count": null,
   "id": "11612de1",
   "metadata": {},
   "outputs": [],
   "source": []
  },
  {
   "cell_type": "code",
   "execution_count": null,
   "id": "d135f27c",
   "metadata": {},
   "outputs": [],
   "source": [
    ">>> df['istrain'] = np.random.rand(len(df)) < .9\n",
    ">>> print(df)"
   ]
  },
  {
   "cell_type": "markdown",
   "id": "e8a0cb24",
   "metadata": {},
   "source": [
    "A list of dicts or a dict of dicts is fastest way to create dataframe from groups of rows\n",
    "#### https://stackoverflow.com/users/8727339/mohit-motwani\n",
    "#### https://stackoverflow.com/a/57001947/623735"
   ]
  },
  {
   "cell_type": "code",
   "execution_count": null,
   "id": "7fac7fa8",
   "metadata": {},
   "outputs": [],
   "source": [
    ">>> df_most_common = {}\n",
    ">>> for name, group in df.groupby('name'):\n",
    "...     row_dict = group.iloc[group['count'].argmax()].to_dict()\n",
    "...     df_most_common[(name, row_dict['sex'])] = row_dict\n",
    ">>> df_most_common = pd.DataFrame(df_most_common).T\n",
    ">>> print(df_most_common)"
   ]
  },
  {
   "cell_type": "code",
   "execution_count": null,
   "id": "c3716613",
   "metadata": {},
   "outputs": [],
   "source": [
    ">>> istest = ~df_most_common['istrain'].astype(bool)\n",
    ">>> df_most_common['istest'] = istest\n",
    ">>> print(df_most_common)"
   ]
  },
  {
   "cell_type": "code",
   "execution_count": null,
   "id": "bf8d6cd0",
   "metadata": {},
   "outputs": [],
   "source": [
    "df_most_common[['istest', 'istrain']].sum() / len(df_most_common)"
   ]
  },
  {
   "cell_type": "code",
   "execution_count": null,
   "id": "c64a5f21",
   "metadata": {},
   "outputs": [],
   "source": [
    "istest = df_most_common['istest']\n",
    "istest"
   ]
  },
  {
   "cell_type": "code",
   "execution_count": null,
   "id": "b6038924",
   "metadata": {},
   "outputs": [],
   "source": [
    "istest.sum()"
   ]
  },
  {
   "cell_type": "code",
   "execution_count": null,
   "id": "c50d4e4d",
   "metadata": {},
   "outputs": [],
   "source": [
    "istest_idx = df_most_common[istest].index\n",
    "istest_idx[:4]"
   ]
  },
  {
   "cell_type": "code",
   "execution_count": null,
   "id": "39aa34ea",
   "metadata": {},
   "outputs": [],
   "source": [
    "df['istrain'].sum() / len(df)"
   ]
  },
  {
   "cell_type": "code",
   "execution_count": null,
   "id": "beef980f",
   "metadata": {},
   "outputs": [],
   "source": [
    "df_most_common.index[:5]\n",
    "# >>> df['istest'] = df_most_common['istest']"
   ]
  },
  {
   "cell_type": "code",
   "execution_count": null,
   "id": "18c2dc4e",
   "metadata": {
    "scrolled": true
   },
   "outputs": [],
   "source": [
    ">>> df['istest'] = df_most_common['istest'].fillna(False)\n",
    ">>> df"
   ]
  },
  {
   "cell_type": "code",
   "execution_count": null,
   "id": "ade8fd02",
   "metadata": {},
   "outputs": [],
   "source": [
    ">>> df['istest'] = df_most_common['istest'].fillna(False)\n",
    ">>> istestisna = df['istest'].isna()\n",
    ">>> istrain = ~(df['istest'][~istestisna]).fillna(False)\n",
    ">>> df['istrain'] = istrain\n",
    ">>> df['istrain'].sum() / len(df)"
   ]
  },
  {
   "cell_type": "code",
   "execution_count": null,
   "id": "046a798b",
   "metadata": {},
   "outputs": [],
   "source": [
    ">>> df['istest'].sum() / len(df)"
   ]
  },
  {
   "cell_type": "code",
   "execution_count": null,
   "id": "aaa31338",
   "metadata": {},
   "outputs": [],
   "source": [
    "istrain = df['istrain'].fillna(False)\n",
    "istrain.sum() / len(df)"
   ]
  },
  {
   "cell_type": "code",
   "execution_count": null,
   "id": "1e09f5a0",
   "metadata": {},
   "outputs": [],
   "source": [
    "istest = df['istest'].fillna(False)\n",
    "istest.sum() / len(df)"
   ]
  },
  {
   "cell_type": "code",
   "execution_count": null,
   "id": "f5ab8b6e",
   "metadata": {},
   "outputs": [],
   "source": [
    ">>> df['istrain'].sum() / len(df)\n",
    "0.8589  # <1>\n",
    ">>> df['istest'].sum() / len(df)\n",
    "0.0908  # <2>\n",
    ">>> (df['istrain'] + df['istest']).sum() / len(df)"
   ]
  },
  {
   "cell_type": "code",
   "execution_count": null,
   "id": "a75f9d4b",
   "metadata": {},
   "outputs": [],
   "source": [
    "istest.sum() / len(df)"
   ]
  },
  {
   "cell_type": "code",
   "execution_count": null,
   "id": "a83f8da3",
   "metadata": {},
   "outputs": [],
   "source": [
    "istrain.sum() / len(df)"
   ]
  },
  {
   "cell_type": "code",
   "execution_count": null,
   "id": "5ae2bf3b",
   "metadata": {},
   "outputs": [],
   "source": [
    "istest = df['istest']\n",
    "# del df['istrain']\n",
    "# del df['istest']\n",
    "df['istest'].sum() / len(istest)"
   ]
  },
  {
   "cell_type": "code",
   "execution_count": null,
   "id": "826e29ec",
   "metadata": {},
   "outputs": [],
   "source": [
    ">>> from sklearn.feature_extraction.text import TfidfVectorizer\n",
    ">>> vectorizer = TfidfVectorizer(use_idf=False,\n",
    "...     analyzer='char', ngram_range=(1, 3),\n",
    "...     lowercase=False)\n",
    ">>> vectorizer"
   ]
  },
  {
   "cell_type": "code",
   "execution_count": null,
   "id": "6fe93803",
   "metadata": {},
   "outputs": [],
   "source": [
    ">>> istest = df['istest'].astype(bool)\n",
    ">>> istrain = df['istrain'].astype(bool)\n",
    ">>> vectorizer.fit(df['name'][istrain])"
   ]
  },
  {
   "cell_type": "code",
   "execution_count": null,
   "id": "671f327d",
   "metadata": {},
   "outputs": [],
   "source": [
    "len(df)"
   ]
  },
  {
   "cell_type": "code",
   "execution_count": null,
   "id": "7093d1ec",
   "metadata": {},
   "outputs": [],
   "source": [
    "istrain.sum()"
   ]
  },
  {
   "cell_type": "code",
   "execution_count": null,
   "id": "4aaa6da1",
   "metadata": {},
   "outputs": [],
   "source": [
    "istest = df['istest']\n",
    "istest.sum()"
   ]
  },
  {
   "cell_type": "code",
   "execution_count": null,
   "id": "4c44dccb",
   "metadata": {
    "scrolled": true
   },
   "outputs": [],
   "source": [
    "vecs = vectorizer.transform(df['name'])\n",
    "vecs = pd.DataFrame.sparse.from_spmatrix(vecs)\n",
    "vecs.head()\n"
   ]
  },
  {
   "cell_type": "code",
   "execution_count": null,
   "id": "5de36f81",
   "metadata": {},
   "outputs": [],
   "source": [
    "vecs.columns = vectorizer.get_feature_names_out()\n",
    "vecs.index = df.index\n",
    "vecs.head()[vecs.columns[:5]]"
   ]
  },
  {
   "cell_type": "code",
   "execution_count": null,
   "id": "44b66572",
   "metadata": {},
   "outputs": [],
   "source": [
    "vecs.shape"
   ]
  },
  {
   "cell_type": "code",
   "execution_count": null,
   "id": "3cb58b01",
   "metadata": {},
   "outputs": [],
   "source": [
    "import torch\n",
    "torch"
   ]
  },
  {
   "cell_type": "code",
   "execution_count": null,
   "id": "67a15ea4",
   "metadata": {},
   "outputs": [],
   "source": [
    "class LogisticRegressionNN(torch.nn.Module):\n",
    "\n",
    "    def __init__(self, num_features, num_outputs=1):\n",
    "         super().__init__()\n",
    "         self.linear = torch.nn.Linear(num_features, num_outputs)\n",
    "\n",
    "    def forward(self, X):\n",
    "        return torch.sigmoid(self.linear(X))"
   ]
  },
  {
   "cell_type": "code",
   "execution_count": null,
   "id": "ddee9b83",
   "metadata": {},
   "outputs": [],
   "source": [
    "def make_tensor(X):\n",
    "    \"\"\" Convert numpy ndarray to torch.Tensor \"\"\"\n",
    "    X = getattr(X, 'values', X)\n",
    "    return X if isinstance(X, torch.Tensor) else torch.Tensor(X)\n",
    "\n",
    "def make_array(x):\n",
    "    \"\"\" Convert torch.Tensor to numpy 1-D array \"\"\"\n",
    "    if hasattr(x, 'detach'):\n",
    "        return torch.squeeze(x).detach().numpy()\n",
    "    return x"
   ]
  },
  {
   "cell_type": "code",
   "execution_count": null,
   "id": "be975bf8",
   "metadata": {},
   "outputs": [],
   "source": [
    "num_features = vecs.shape[1]  # number of unique n-grams in our \"vocabulary\"\n",
    "num_outputs = 1    # number of nesses (sexes) to predict, we're predicting only femaleness"
   ]
  },
  {
   "cell_type": "code",
   "execution_count": null,
   "id": "b7e489a0",
   "metadata": {},
   "outputs": [],
   "source": [
    "from tqdm import tqdm\n",
    "import time\n",
    "import json\n",
    "import copy\n",
    "\n",
    "# Fraction of the tensors y_pred and y that are the same \n",
    "# (y_pred == y).sum() / len(y)\n",
    "def measure_binary_accuracy(y_pred, y):\n",
    "    \"\"\" Round y_pred and y then count the preds that are equal to the truth to compute fraction correct \"\"\"\n",
    "    y_pred = make_array(y_pred).round()\n",
    "    y = make_array(y).round()\n",
    "    num_correct = (y_pred == y).sum()\n",
    "    return num_correct / len(y)"
   ]
  },
  {
   "cell_type": "code",
   "execution_count": null,
   "id": "05bf6535",
   "metadata": {},
   "outputs": [],
   "source": [
    "def measure_performance(model, X_train, X_test, y_train, y_test, criterion):\n",
    "    with torch.no_grad():\n",
    "        # Calculating the loss and accuracy for the train dataset\n",
    "        accuracy_train = measure_binary_accuracy(model(X_train), y_train)\n",
    "        outputs_test = torch.squeeze(model(X_test))\n",
    "        accuracy_test = measure_binary_accuracy(outputs_test, y_test)\n",
    "        loss_test = criterion(outputs_test, y_test)\n",
    "        return dict(i=i, \n",
    "                    # loss_train=loss.item(),\n",
    "                    accuracy_train=accuracy_train,\n",
    "                    loss_test=loss_test.item(),\n",
    "                    accuracy_test=accuracy_test)"
   ]
  },
  {
   "cell_type": "code",
   "execution_count": null,
   "id": "6765af18",
   "metadata": {},
   "outputs": [],
   "source": [
    "model = LogisticRegressionNN(num_features=vecs.shape[1], num_outputs=1)\n",
    "model"
   ]
  },
  {
   "cell_type": "code",
   "execution_count": null,
   "id": "5e610459",
   "metadata": {},
   "outputs": [],
   "source": [
    "learning_rate = 0.05\n",
    "optimizer = torch.optim.SGD(model.parameters(), lr=learning_rate)\n",
    "optimizer"
   ]
  },
  {
   "cell_type": "code",
   "execution_count": null,
   "id": "9bf2a9e7",
   "metadata": {},
   "outputs": [],
   "source": [
    "# BCE: Binary Cross Entropy\n",
    "criterion = torch.nn.BCELoss(weight=torch.Tensor(df[['count']].values))\n",
    "criterion"
   ]
  },
  {
   "cell_type": "code",
   "execution_count": null,
   "id": "d5549ade",
   "metadata": {},
   "outputs": [],
   "source": [
    "# Create new majority sex column to hold the most common sex for names used for both sexes\n",
    "df['majority_sex'] = df['sex']\n",
    "\n",
    "# Overwrite the minority sex with the majority.\n",
    "for name_, sex_ in df_most_common.index:\n",
    "    opposite_sex = 'F' if sex_ == 'M' else 'M'\n",
    "    try:\n",
    "        # if you put majority_sex after .iloc this fails to overwrite data and generates warning\n",
    "        df['majority_sex'].loc[(name_, opposite_sex)] = sex_\n",
    "        print(f'overwrote ({name_}, {opposite_sex}) with {sex_}')\n",
    "    except KeyError:\n",
    "        pass\n"
   ]
  },
  {
   "cell_type": "code",
   "execution_count": null,
   "id": "0d4de3c5",
   "metadata": {},
   "outputs": [],
   "source": [
    "dupe_names = df[df['name'].duplicated()]['name'].values\n",
    "df[df['name'].isin(dupe_names)]"
   ]
  },
  {
   "cell_type": "code",
   "execution_count": null,
   "id": "9d3967fb",
   "metadata": {},
   "outputs": [],
   "source": [
    "weight_test = torch.Tensor(df[['count']].loc[df_most_common.index].values)\n",
    "criterion_test = torch.nn.BCELoss(weight=weight_test)\n",
    "criterion_test"
   ]
  },
  {
   "cell_type": "code",
   "execution_count": null,
   "id": "22f9d87a",
   "metadata": {},
   "outputs": [],
   "source": [
    "def rand_range(min_value=0.001, max_value=1):\n",
    "    scale = max_value - min_value\n",
    "    return scale * np.random.rand() + min_value"
   ]
  },
  {
   "cell_type": "code",
   "execution_count": null,
   "id": "a871494b",
   "metadata": {},
   "outputs": [],
   "source": [
    "def rand_range_log(min_value=0.001, max_value=1):\n",
    "    min_log = np.log(min_value)\n",
    "    max_log = np.log(max_value)\n",
    "    return np.exp(rand_range(np.log(min_value), np.log(max_value)))"
   ]
  },
  {
   "cell_type": "markdown",
   "id": "67a4d55a",
   "metadata": {},
   "source": [
    "Create random hyperparameter table for optimizer learning_rate and momentum"
   ]
  },
  {
   "cell_type": "code",
   "execution_count": null,
   "id": "39d7315b",
   "metadata": {},
   "outputs": [],
   "source": [
    "# lr: learning_rate\n",
    "hyperparam_ranges = dict(lr=[0.02, 1.0], momentum=[0.00001, 1.0])\n",
    "hyperparam_table = []\n",
    "num_attempts = 30\n",
    "for i in range(num_attempts):\n",
    "    hyperparam_values = dict()\n",
    "    for k, v in hyperparam_ranges.items():\n",
    "        hyperparam_values[k] = rand_range_log(*hyperparam_ranges[k])\n",
    "    hyperparam_table.append(hyperparam_values)\n",
    "pd.DataFrame(hyperparam_table)"
   ]
  },
  {
   "cell_type": "code",
   "execution_count": null,
   "id": "4bf871bc",
   "metadata": {},
   "outputs": [],
   "source": [
    "model = LogisticRegressionNN(num_features=vecs.shape[1], num_outputs=1)\n",
    "model"
   ]
  },
  {
   "cell_type": "code",
   "execution_count": null,
   "id": "3d770f99",
   "metadata": {},
   "outputs": [],
   "source": [
    "optimizer = torch.optim.SGD(model.parameters(), **hyperparam_table[0])\n",
    "optimizer"
   ]
  },
  {
   "cell_type": "code",
   "execution_count": null,
   "id": "6919f589",
   "metadata": {},
   "outputs": [],
   "source": [
    "weight_train = torch.Tensor(df['count'][istrain].values.reshape(-1, 1) / df['count'][istrain].mean())\n",
    "weight_train.sum()"
   ]
  },
  {
   "cell_type": "code",
   "execution_count": null,
   "id": "8db01914",
   "metadata": {},
   "outputs": [],
   "source": [
    "df['count'][istrain].values.reshape(sum(istrain), 1)"
   ]
  },
  {
   "cell_type": "code",
   "execution_count": null,
   "id": "11667c1c",
   "metadata": {},
   "outputs": [],
   "source": [
    "weight_train.shape"
   ]
  },
  {
   "cell_type": "code",
   "execution_count": null,
   "id": "0b73aa45",
   "metadata": {},
   "outputs": [],
   "source": [
    "weight_test = torch.Tensor(df['count'][~istrain].values.reshape(-1, 1) / df['count'][~istrain].mean())\n",
    "weight_test.sum()"
   ]
  },
  {
   "cell_type": "code",
   "execution_count": null,
   "id": "3316103d",
   "metadata": {},
   "outputs": [],
   "source": [
    "# pbar = tqdm(hyperparam_table, desc='Training attempt', total=len(hyperparam_table))\n",
    "num_epochs=1000\n",
    "\n",
    "t0 = time.time()\n",
    "for i, hyperparam_values in enumerate(hyperparam_table):\n",
    "    t1 = time.time()\n",
    "    model = LogisticRegressionNN(num_features=vecs.shape[1], num_outputs=1)\n",
    "    optimizer = torch.optim.SGD(model.parameters(), lr=hyperparam_values['lr'])\n",
    "    # BCE: Binary Cross Entropy weighted by the number of babies with that first name and sex\n",
    "    criterion_train = torch.nn.BCELoss(weight=weight_train)\n",
    "    criterion_test = torch.nn.BCELoss(weight=weight_test)\n",
    "    X = vecs.values\n",
    "    X_train = torch.Tensor(X[istrain])\n",
    "    X_test = torch.Tensor(X[~istrain])\n",
    "    y_train = torch.Tensor((df[['sex']] == 'F').astype(int).values[istrain])\n",
    "    y_test = torch.Tensor((df[['majority_sex']] == 'F').astype(int).values[~istrain])\n",
    "    \n",
    "    pbar_epochs = tqdm(range(num_epochs), desc='Epoch:', total=num_epochs)\n",
    "    results = [None] * num_epochs\n",
    "    for epoch in pbar_epochs:\n",
    "        optimizer.zero_grad() # Setting our stored gradients equal to zero\n",
    "        outputs = model(X_train)\n",
    "        loss_train = criterion_train(outputs, y_train) \n",
    "        loss_train.backward() # Computes the gradient of the given tensor w.r.t. the weights/bias\n",
    "        loss_train = loss_train.item()\n",
    "        optimizer.step() # Updates weights and biases with the optimizer (SGD)\n",
    "        # print(f'Train loss: {np.round(loss_train.detach().numpy(), 4):0.4f}')\n",
    "        outputs_test = model(X_test)\n",
    "        loss_test = criterion_test(outputs_test, y_test).item()\n",
    "        accuracy_test = measure_binary_accuracy(outputs_test, y_test)\n",
    "        results[epoch] = dict(loss_train=loss_train, loss_test=loss_test, accuracy_test=accuracy_test)\n",
    "        # pbar_epochs.set_description(f'loss_train/test: {loss_train:.4f}/{loss_test:.4f}')\n",
    "    t2 = time.time()\n",
    "    results[-1]['time_per_attempt'] = t2 - t1\n",
    "    results[-1]['total_time'] = t2 - t0\n",
    "    hyperparam_table[i].update(results[-1])\n",
    "    print(f'attempt {i}/{len(hyperparam_table)}')\n",
    "    for k, v in hyperparam_table[i].items():\n",
    "        print(f'{k}: {v:04f}')"
   ]
  },
  {
   "cell_type": "code",
   "execution_count": null,
   "id": "b522e7f7",
   "metadata": {},
   "outputs": [],
   "source": [
    "hyperparam_table[-1]\n",
    "\n",
    "\n"
   ]
  },
  {
   "cell_type": "code",
   "execution_count": null,
   "id": "5fb21a71",
   "metadata": {},
   "outputs": [],
   "source": [
    "hyperparam_df = pd.DataFrame(hyperparam_table).sort_values('accuracy_test')\n",
    "hyperparam_df"
   ]
  },
  {
   "cell_type": "code",
   "execution_count": null,
   "id": "f739e8b7",
   "metadata": {},
   "outputs": [],
   "source": [
    "def fit(model=model, X=vecs.values, y=(df[['sex']] == 'F').values, optimizer=None,\n",
    "        num_epochs=30, learning_rate=.1, criterion=criterion, optimizer=optimizer):\n",
    "    pbar = tqdm(range(num_epochs), desc='Epoch', total=num_epochs)\n",
    "    X_train = torch.Tensor(X[istrain])\n",
    "    X_test = torch.Tensor(X[~istrain])\n",
    "    y_train = torch.Tensor(y[istrain])\n",
    "    y_test = torch.Tensor(y[~istrain])\n",
    "\n",
    "    results = []\n",
    "    for i in pbar:\n",
    "        optimizer.zero_grad() # Setting our stored gradients equal to zero\n",
    "        outputs = model(X_train)\n",
    "        loss_train = criterion(outputs, y_train) \n",
    "        loss_train.backward() # Computes the gradient of the given tensor w.r.t. the weights/bias\n",
    "        optimizer.step() # Updates weights and biases with the optimizer (SGD)\n",
    "    return results"
   ]
  },
  {
   "cell_type": "code",
   "execution_count": null,
   "id": "01e4eb13",
   "metadata": {},
   "outputs": [],
   "source": [
    "test_loss = hyperparam_df['loss_test']\n",
    "test_accuracy = hyperparam_df['accuracy_test']\n",
    "hyperparam_df.plot(x='lr', y='momentum', kind='scatter', logy=True, logx=True, grid=True, marker='o', s=100*test_accuracy**2, alpha=test_loss*.7)"
   ]
  },
  {
   "cell_type": "code",
   "execution_count": null,
   "id": "d0969d5b",
   "metadata": {},
   "outputs": [],
   "source": [
    "results = fit()"
   ]
  },
  {
   "cell_type": "code",
   "execution_count": null,
   "id": "b0603da6",
   "metadata": {},
   "outputs": [],
   "source": [
    "pd.DataFrame(results)"
   ]
  },
  {
   "cell_type": "code",
   "execution_count": null,
   "id": "f2297203",
   "metadata": {},
   "outputs": [],
   "source": [
    "# model.score(vecs[~istrain], y[~istrain], sample_weight=df['count'][~istrain])"
   ]
  },
  {
   "cell_type": "code",
   "execution_count": null,
   "id": "4c092733",
   "metadata": {},
   "outputs": [],
   "source": [
    "# model.classes_\n"
   ]
  },
  {
   "cell_type": "code",
   "execution_count": null,
   "id": "a3ece04b",
   "metadata": {},
   "outputs": [],
   "source": [
    "names = ['Dewey', 'Kemal', 'Copeland', 'Vishvesh']\n",
    "ourvecs = vectorizer.transform(names)\n",
    "ourvecs = pd.DataFrame.sparse.from_spmatrix(ourvecs)\n",
    "ourvecs.columns = vectorizer.get_feature_names_out()\n",
    "ourvecs.index = list(zip(names, 'M'*len(names)))\n",
    "ourvecs"
   ]
  },
  {
   "cell_type": "code",
   "execution_count": null,
   "id": "af8e2b55",
   "metadata": {},
   "outputs": [],
   "source": [
    "ourtensors = "
   ]
  },
  {
   "cell_type": "code",
   "execution_count": null,
   "id": "ef4126c8",
   "metadata": {},
   "outputs": [],
   "source": [
    "names = ['Maria', 'Syndee', 'Aditi', 'Constance']\n",
    "vecs = vectorizer.transform(names)\n",
    "vecs = pd.DataFrame.sparse.from_spmatrix(vecs)\n",
    "vecs.columns = vectorizer.get_feature_names_out()\n",
    "vecs.index = list(zip(names, 'M'*len(names)))\n",
    "pd.DataFrame(model.predict_proba(vecs)[:,0], index=vecs.index)"
   ]
  },
  {
   "cell_type": "code",
   "execution_count": null,
   "id": "226bd675",
   "metadata": {},
   "outputs": [],
   "source": []
  },
  {
   "cell_type": "code",
   "execution_count": null,
   "id": "497674cf",
   "metadata": {},
   "outputs": [],
   "source": [
    "class LogisticRegressionNumpyNN(LogisticRegressionNN):\n",
    "\n",
    "    def __init__(self, *args, **kwargs):\n",
    "         super().__init__(*args, **kwargs)\n",
    "\n",
    "    def predict_proba(self, X):\n",
    "        return self.forward(make_tensor(X))\n",
    "    \n",
    "    def predict(self, X):\n",
    "        return (np.array(self.forward(make_tesnor(X))) > 0.5).astype(int)\n",
    "    \n",
    "# ', '.join([v for v in dir(LogisticRegression) if v[0] != '_'])"
   ]
  }
 ],
 "metadata": {
  "kernelspec": {
   "display_name": "Python 3 (ipykernel)",
   "language": "python",
   "name": "python3"
  },
  "language_info": {
   "codemirror_mode": {
    "name": "ipython",
    "version": 3
   },
   "file_extension": ".py",
   "mimetype": "text/x-python",
   "name": "python",
   "nbconvert_exporter": "python",
   "pygments_lexer": "ipython3",
   "version": "3.9.7"
  }
 },
 "nbformat": 4,
 "nbformat_minor": 5
}
