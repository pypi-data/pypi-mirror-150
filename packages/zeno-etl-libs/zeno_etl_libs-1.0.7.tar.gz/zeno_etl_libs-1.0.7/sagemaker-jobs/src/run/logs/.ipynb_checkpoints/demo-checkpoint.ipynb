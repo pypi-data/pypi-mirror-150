{
 "cells": [
  {
   "cell_type": "code",
   "execution_count": 1,
   "id": "364cf397-f2c8-4a31-b7ac-8f539f79d1f2",
   "metadata": {
    "execution": {
     "iopub.execute_input": "2022-05-11T07:50:36.160595Z",
     "iopub.status.busy": "2022-05-11T07:50:36.159908Z",
     "iopub.status.idle": "2022-05-11T07:50:36.175074Z",
     "shell.execute_reply": "2022-05-11T07:50:36.174502Z"
    },
    "papermill": {
     "duration": 0.027545,
     "end_time": "2022-05-11T07:50:36.177423",
     "exception": false,
     "start_time": "2022-05-11T07:50:36.149878",
     "status": "completed"
    },
    "tags": [
     "parameters"
    ]
   },
   "outputs": [],
   "source": [
    "f_name = \"Kuldeep\"\n",
    "l_name = \"Singh\""
   ]
  },
  {
   "cell_type": "code",
   "execution_count": 2,
   "id": "ed626838",
   "metadata": {
    "execution": {
     "iopub.execute_input": "2022-05-11T07:50:36.186490Z",
     "iopub.status.busy": "2022-05-11T07:50:36.186249Z",
     "iopub.status.idle": "2022-05-11T07:50:36.189377Z",
     "shell.execute_reply": "2022-05-11T07:50:36.188845Z"
    },
    "papermill": {
     "duration": 0.008386,
     "end_time": "2022-05-11T07:50:36.191201",
     "exception": false,
     "start_time": "2022-05-11T07:50:36.182815",
     "status": "completed"
    },
    "tags": [
     "injected-parameters"
    ]
   },
   "outputs": [],
   "source": [
    "# Parameters\n",
    "f_name = \"Ram\"\n",
    "l_name = \"Babu\"\n"
   ]
  },
  {
   "cell_type": "code",
   "execution_count": 3,
   "id": "ceb68e06-1ee5-4823-b00c-feaa38d051e0",
   "metadata": {
    "execution": {
     "iopub.execute_input": "2022-05-11T07:50:36.196944Z",
     "iopub.status.busy": "2022-05-11T07:50:36.196751Z",
     "iopub.status.idle": "2022-05-11T07:50:36.199933Z",
     "shell.execute_reply": "2022-05-11T07:50:36.199474Z"
    },
    "papermill": {
     "duration": 0.008191,
     "end_time": "2022-05-11T07:50:36.202063",
     "exception": false,
     "start_time": "2022-05-11T07:50:36.193872",
     "status": "completed"
    },
    "tags": []
   },
   "outputs": [
    {
     "name": "stdout",
     "output_type": "stream",
     "text": [
      "Hello Ram Babu, How are you !\n"
     ]
    }
   ],
   "source": [
    "print(f\"Hello {f_name} {l_name}, How are you !\")"
   ]
  },
  {
   "cell_type": "code",
   "execution_count": null,
   "id": "26da0791-a5a9-4b23-957b-82f5f8706c52",
   "metadata": {
    "papermill": {
     "duration": 0.001548,
     "end_time": "2022-05-11T07:50:36.207657",
     "exception": false,
     "start_time": "2022-05-11T07:50:36.206109",
     "status": "completed"
    },
    "tags": []
   },
   "outputs": [],
   "source": []
  }
 ],
 "metadata": {
  "kernelspec": {
   "display_name": "Python 3 (ipykernel)",
   "language": "python",
   "name": "python3"
  },
  "language_info": {
   "codemirror_mode": {
    "name": "ipython",
    "version": 3
   },
   "file_extension": ".py",
   "mimetype": "text/x-python",
   "name": "python",
   "nbconvert_exporter": "python",
   "pygments_lexer": "ipython3",
   "version": "3.8.13"
  },
  "papermill": {
   "default_parameters": {},
   "duration": 1.298423,
   "end_time": "2022-05-11T07:50:36.325667",
   "environment_variables": {},
   "exception": null,
   "input_path": "/Users/kuldeep/PycharmProjects/etl/sagemaker-jobs/src/scripts/experiments/demo.ipynb",
   "output_path": "/Users/kuldeep/PycharmProjects/etl/sagemaker-jobs/src/run/logs/demo.ipynb",
   "parameters": {
    "f_name": "Ram",
    "l_name": "Babu"
   },
   "start_time": "2022-05-11T07:50:35.027244",
   "version": "2.3.4"
  }
 },
 "nbformat": 4,
 "nbformat_minor": 5
}
